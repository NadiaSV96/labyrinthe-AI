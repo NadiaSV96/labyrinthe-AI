{
  "nbformat": 4,
  "nbformat_minor": 0,
  "metadata": {
    "colab": {
      "provenance": [],
      "toc_visible": true,
      "mount_file_id": "1ZmqLiW2LNOCMbpZh16BsM6XljpkMBwRN",
      "authorship_tag": "ABX9TyNLqyJL3aqS0AO1IaeOWk8M",
      "include_colab_link": true
    },
    "kernelspec": {
      "name": "python3",
      "display_name": "Python 3"
    },
    "language_info": {
      "name": "python"
    }
  },
  "cells": [
    {
      "cell_type": "markdown",
      "metadata": {
        "id": "view-in-github",
        "colab_type": "text"
      },
      "source": [
        "<a href=\"https://colab.research.google.com/github/NadiaSV96/labyrinthe-AI/blob/main/TP01_SIMARD_VILLA_Nadia_Labyrinthe.ipynb\" target=\"_parent\"><img src=\"https://colab.research.google.com/assets/colab-badge.svg\" alt=\"Open In Colab\"/></a>"
      ]
    },
    {
      "cell_type": "markdown",
      "source": [
        "#**Projet 1 - Résolution de labyrinthe (IA2)**"
      ],
      "metadata": {
        "id": "VX0NKzIaylRC"
      }
    },
    {
      "cell_type": "markdown",
      "source": [
        "\n",
        "## Étape 1 — Classe Graphe : structure du labyrinthe\n"
      ],
      "metadata": {
        "id": "k7eA2H82yGMP"
      }
    },
    {
      "cell_type": "code",
      "execution_count": null,
      "metadata": {
        "id": "gwv9ZUzEde4z"
      },
      "outputs": [],
      "source": [
        "class Graphe:\n",
        "    def __init__(self, liste_sommets):\n",
        "        # La liste des sommets (chaque sommet est une case (i, j) de la grille)\n",
        "        self.liste_sommets = liste_sommets\n",
        "        # Dictionnaire des arêtes (clé = sommet, valeur = liste des voisins)\n",
        "        self.adjacents = {sommet: [] for sommet in liste_sommets}\n",
        "\n",
        "    def sommets(self):\n",
        "        # Retourne la liste des sommets\n",
        "        return self.liste_sommets\n",
        "\n",
        "    def voisins(self, sommet):\n",
        "        \"\"\"\n",
        "        Retourne la liste des voisins du sommet\n",
        "\n",
        "        Utilise .get(sommet, []) pour éviter une erreur si le sommet n'existe pas\n",
        "        encore dans le dictionnaire 'adjacents'. Cela renvoie une liste vide par\n",
        "        défaut, ce qui rend le code plus solide puisque les sommets\n",
        "        peuvent être ajoutés dynamiquement.\n",
        "        \"\"\"\n",
        "        return self.adjacents.get(sommet, [])\n",
        "\n",
        "    def est_voisin(self, s1, s2):\n",
        "        \"\"\"\n",
        "        Vérifie si s2 est un voisin de s1.\n",
        "\n",
        "        Utilise .get(s1, []) pour éviter une erreur si s1 n'existe pas encore\n",
        "        dans le dictionnaire. Retourne False dans ce cas.\n",
        "        \"\"\"\n",
        "        return s2 in self.adjacents.get(s1, [])\n",
        "\n",
        "    def ajoute_sommet(self, sommet):\n",
        "        # Ajoute un sommet s'il n'existe pas déjà dans le graphe\n",
        "        # Évite les doublons\n",
        "        if sommet not in self.liste_sommets:\n",
        "            self.liste_sommets.append(sommet)\n",
        "            self.adjacents[sommet] = []\n",
        "\n",
        "    def ajoute_arete(self, s1, s2):\n",
        "        # Ajoute les sommets au graphe s'ils n'existent pas encore\n",
        "        self.ajoute_sommet(s1)\n",
        "        self.ajoute_sommet(s2)\n",
        "\n",
        "        \"\"\"\n",
        "        On ajoute s2 comme voisin de s1 seulement s'il n'est pas déjà présent.\n",
        "        Cela évite les doublons dans la liste des voisins,\n",
        "        ce qui est important pour garder un graphe propre et éviter que les\n",
        "        algorithmes (comme DFS ou BFS) ne parcourent plusieurs fois le même voisin\n",
        "        (plus efficace).\n",
        "        \"\"\"\n",
        "        if s2 not in self.adjacents[s1]:\n",
        "            self.adjacents[s1].append(s2)\n",
        "\n",
        "        \"\"\"\n",
        "        On ajoute s1 comme voisin de s2 seulement s'il n'est pas déjà présent\n",
        "        (le graphe est non orienté, donc la relation doit exister dans les deux sens).\n",
        "        \"\"\"\n",
        "        if s1 not in self.adjacents[s2]:\n",
        "            self.adjacents[s2].append(s1)\n"
      ]
    },
    {
      "cell_type": "markdown",
      "source": [
        "## Étape 2 — Classe Cellule : murs de chaque case du labyrinthe\n",
        "\n"
      ],
      "metadata": {
        "id": "lS8kV-9ozNII"
      }
    },
    {
      "cell_type": "code",
      "source": [
        "class Cellule:\n",
        "    def __init__(self, mur_nord, mur_est, mur_sud, mur_ouest):\n",
        "        \"\"\"\n",
        "        Chaque mur est un booléen :\n",
        "        True = mur présent ; False = mur absent (passage ouvert)\n",
        "        \"\"\"\n",
        "        self.murs = {'N': mur_nord, 'E': mur_est, 'S': mur_sud, 'O': mur_ouest}\n"
      ],
      "metadata": {
        "id": "beBeCxZ9zmoW"
      },
      "execution_count": null,
      "outputs": []
    },
    {
      "cell_type": "markdown",
      "source": [
        "## Étape 3 — Classe Labyrinthe (grille et génération du labyrinthe)"
      ],
      "metadata": {
        "id": "RmAxvq410YyH"
      }
    },
    {
      "cell_type": "code",
      "source": [
        "import random\n",
        "\n",
        "class Labyrinthe:\n",
        "    def __init__(self, largeur, hauteur):\n",
        "        \"\"\"\n",
        "        Initialise un labyrinthe vide avec une grille de cellules murées.\n",
        "        \"\"\"\n",
        "        self.largeur = largeur  # nombre de colonnes\n",
        "        self.hauteur = hauteur  # nombre de rangées\n",
        "        self.grille = self.construire_grille(hauteur, largeur) # est une matrice\n",
        "        # (liste de listes) contenant des objets Cellule avec tous les murs activés (True)\n",
        "\n",
        "    def construire_grille(self, h, l):\n",
        "        \"\"\"\n",
        "        Construit une grille de dimensions h x l remplie de cellules avec tous les murs.\n",
        "        Retourne une matrice [[Cellule]].\n",
        "        \"\"\"\n",
        "        return [[Cellule(True, True, True, True) for _ in range(l)] for _ in range(h)]\n",
        "\n",
        "    def creer_passage(self, i1, j1, i2, j2):\n",
        "        \"\"\"\n",
        "        Crée une ouverture entre les cellules (i1, j1) et (i2, j2),\n",
        "        en retirant le mur dans la bonne direction des deux cellules.\n",
        "        \"\"\"\n",
        "        dx = i2 - i1\n",
        "        dy = j2 - j1\n",
        "\n",
        "        if dx == 1:  # i2 est en dessous de i1 (direction vers le bas)\n",
        "            self.grille[i1][j1].murs['S'] = False\n",
        "            self.grille[i2][j2].murs['N'] = False\n",
        "        elif dx == -1:  # i2 est au-dessus (direction vers le haut)\n",
        "            self.grille[i1][j1].murs['N'] = False\n",
        "            self.grille[i2][j2].murs['S'] = False\n",
        "        elif dy == 1:  # j2 est à droite (direction vers la droite)\n",
        "            self.grille[i1][j1].murs['E'] = False\n",
        "            self.grille[i2][j2].murs['O'] = False\n",
        "        elif dy == -1:  # j2 est à gauche (direction vers la gauche)\n",
        "            self.grille[i1][j1].murs['O'] = False\n",
        "            self.grille[i2][j2].murs['E'] = False\n",
        "\n",
        "    def creer_labyrinthe(self, i, j, di, dj):\n",
        "        \"\"\"\n",
        "        Génère un labyrinthe parfait de dimension (di, dj) en partant de\n",
        "        la case (i, j) et en explorant aléatoirement ses voisins.\n",
        "        \"\"\"\n",
        "        traites = set()\n",
        "        pile = [(i, j)]\n",
        "        traites.add((i, j))\n",
        "\n",
        "        while pile:\n",
        "            ci, cj = pile[-1]\n",
        "            voisins = []\n",
        "\n",
        "            for (ni, nj) in [(ci-1, cj), (ci+1, cj), (ci, cj-1), (ci, cj+1)]:\n",
        "                if 0 <= ni < di and 0 <= nj < dj and (ni, nj) not in traites:\n",
        "                    voisins.append((ni, nj))\n",
        "\n",
        "            if voisins:\n",
        "                vi, vj = random.choice(voisins)\n",
        "                self.creer_passage(ci, cj, vi, vj)\n",
        "                pile.append((vi, vj))\n",
        "                traites.add((vi, vj))\n",
        "            else:\n",
        "                pile.pop()\n",
        "\n",
        "    def definir_entree_sortie(self):\n",
        "        \"\"\"\n",
        "        Choisit aléatoirement une entrée et une sortie sur les bords du labyrinthe,\n",
        "        ouvre les murs correspondants, et retourne les coordonnées (entrée, sortie).\n",
        "        \"\"\"\n",
        "        bords = []\n",
        "\n",
        "        # Cellules avec bord haut\n",
        "        for j in range(self.largeur):\n",
        "            bords.append(((0, j), 'N'))\n",
        "\n",
        "        # Cellules avec bord bas\n",
        "        for j in range(self.largeur):\n",
        "            bords.append(((self.hauteur - 1, j), 'S'))\n",
        "\n",
        "        # Cellules avec bord gauche\n",
        "        for i in range(self.hauteur):\n",
        "            bords.append(((i, 0), 'O'))\n",
        "\n",
        "        # Cellules avec bord droit\n",
        "        for i in range(self.hauteur):\n",
        "            bords.append(((i, self.largeur - 1), 'E'))\n",
        "\n",
        "        # Choisir deux points différents\n",
        "        entree_cell, entree_mur = random.choice(bords)\n",
        "        sortie_cell, sortie_mur = random.choice(bords)\n",
        "        while sortie_cell == entree_cell:\n",
        "            sortie_cell, sortie_mur = random.choice(bords)\n",
        "\n",
        "        # Ouvrir les murs\n",
        "        self.grille[entree_cell[0]][entree_cell[1]].murs[entree_mur] = False\n",
        "        self.grille[sortie_cell[0]][sortie_cell[1]].murs[sortie_mur] = False\n",
        "\n",
        "        return entree_cell, sortie_cell\n",
        "\n"
      ],
      "metadata": {
        "id": "1v0WPODh0btR"
      },
      "execution_count": null,
      "outputs": []
    },
    {
      "cell_type": "markdown",
      "source": [
        "### Petite explication pour la création des passages et ouverture des murs\n",
        "\n",
        "| Déplacement    | Position cible `(i2, j2)` | `dx = i2 - i1` | `dy = j2 - j1` | Direction   |\n",
        "| -------------- | ------------------------- | -------------- | -------------- | ----------- |\n",
        "| Vers le haut   | `(i1 - 1, j1)`            | `-1`           | `0`            | Nord (`N`)  |\n",
        "| Vers le bas    | `(i1 + 1, j1)`            | `+1`           | `0`            | Sud (`S`)   |\n",
        "| Vers la gauche | `(i1, j1 - 1)`            | `0`            | `-1`           | Ouest (`O`) |\n",
        "| Vers la droite | `(i1, j1 + 1)`            | `0`            | `+1`           | Est (`E`)   |\n",
        "\n",
        "\n",
        "> Ces calculs sont utilisés pour déterminer dans quelle direction se trouve une cellule voisine\n",
        "> afin d’ouvrir les bons murs entre deux cellules adjacentes dans le labyrinthe.\n"
      ],
      "metadata": {
        "id": "NBqhxE7N8EUT"
      }
    },
    {
      "cell_type": "markdown",
      "source": [
        "### Génération d’un labyrinthe parfait avec DFS aléatoire\n",
        "\n",
        "La méthode `creer_labyrinthe(i, j, di, dj)` codée plus haut permet de générer un labyrinthe parfait de dimensions `(di, dj)` en partant de la cellule `(i, j)` pour son exploration. Elle utilise une version itérative du parcours en profondeur (DFS) avec une pile pour simuler l’exploration et une touche d’aléatoire (random) pour produire des labyrinthes uniques à chaque exécution.\n",
        "\n",
        "L’algorithme fonctionne comme suit :\n",
        "- On initialise un ensemble `traites` pour mémoriser les cellules déjà explorées.\n",
        "- Une pile `pile` contient les cellules à visiter. On commence avec la cellule de départ.\n",
        "- Tant que la pile n’est pas vide :\n",
        "  - On regarde la cellule au sommet de la pile (`ci, cj`) sans la retirer.\n",
        "  - On identifie les voisins valides (non traités et dans les limites de la grille).\n",
        "  On utilise la ligne suivante pour générer les coordonnées des quatre voisins possibles d’une cellule `(ci, cj)` :\n",
        "  ```python\n",
        "  for (ni, nj) in [(ci-1, cj), (ci+1, cj), (ci, cj-1), (ci, cj+1)]\n",
        "  ```\n",
        "  >Ensuite, on applique une condition qui permet de s’assurer que le voisin est bien dans les limites du labyrinthe (ni et nj ne sortent pas de la grille) et qu’il n’a pas déjà été visité (`traites`). Si c’est le cas, on l’ajoute à la liste des voisins accessibles pour continuer la génération du labyrinthe.\n",
        "\n",
        "  - Si des voisins valides existent :\n",
        "    - On en choisit un au hasard (`vi, vj`).\n",
        "    - On crée un passage entre la cellule actuelle et ce voisin (`creer_passage()` retire les murs).\n",
        "    - On ajoute ce voisin à la pile et à l’ensemble `traites`.\n",
        "  - S’il n’y a plus de voisins disponibles, on retire la cellule actuelle de la pile (retour en arrière).\n",
        "\n",
        ">Ce procédé se répète jusqu’à ce que toutes les cellules aient été explorées. Le labyrinthe obtenu est parfait : il relie toutes les cellules sans aucun cycle, ce qui garantit un unique chemin entre deux points.\n"
      ],
      "metadata": {
        "id": "UBslfVXTHUjl"
      }
    },
    {
      "cell_type": "markdown",
      "source": [
        "#### Affichage du labyrinthe avec matplotlib"
      ],
      "metadata": {
        "id": "QdR2AyXhus-l"
      }
    },
    {
      "cell_type": "code",
      "source": [
        "import matplotlib.pyplot as plt\n",
        "\n",
        "def afficher_labyrinthe(labyrinthe):\n",
        "    \"\"\"\n",
        "    Affiche un labyrinthe à l'aide de matplotlib en traçant les murs des cellules.\n",
        "    \"\"\"\n",
        "    fig, ax = plt.subplots(figsize=(8, 8))\n",
        "    ax.set_aspect('equal')\n",
        "    ax.axis('off')\n",
        "\n",
        "    h = labyrinthe.hauteur\n",
        "    l = labyrinthe.largeur\n",
        "\n",
        "    for i in range(h):\n",
        "        for j in range(l):\n",
        "            x, y = j, h - i - 1  # Inverser y pour affichage de haut en bas\n",
        "            murs = labyrinthe.grille[i][j].murs\n",
        "\n",
        "            # Tracer les murs si True\n",
        "            if murs['N']:\n",
        "                ax.plot([x, x + 1], [y + 1, y + 1], color='black')\n",
        "            if murs['S']:\n",
        "                ax.plot([x, x + 1], [y, y], color='black')\n",
        "            if murs['O']:\n",
        "                ax.plot([x, x], [y, y + 1], color='black')\n",
        "            if murs['E']:\n",
        "                ax.plot([x + 1, x + 1], [y, y + 1], color='black')\n",
        "\n",
        "    plt.show()\n"
      ],
      "metadata": {
        "id": "DOoxcOTrNYmR"
      },
      "execution_count": null,
      "outputs": []
    },
    {
      "cell_type": "markdown",
      "source": [
        "### Conversion du labyrinthe en graphe\n",
        "\n",
        "Chaque cellule du labyrinthe devient un sommet dans le graphe.  \n",
        "Une arête est ajoutée entre deux cellules adjacentes s'il n'y a pas de mur entre elles.\n",
        "\n",
        "Exemple :  \n",
        "- Si la cellule `(2, 3)` n’a pas de mur à l’est et qu’elle est dans la grille,  \n",
        "  on ajoute une arête entre `(2, 3)` et `(2, 4)`.\n",
        "- Le graphe obtenu est non orienté (les arêtes vont dans les deux sens).\n",
        "\n",
        "Cela permet ensuite d'appliquer des algorithmes de recherche de chemin (DFS, BFS, Dijkstra, A*, etc.).\n"
      ],
      "metadata": {
        "id": "ZjHX9IKaMGIJ"
      }
    },
    {
      "cell_type": "code",
      "source": [
        "def labyrinthe_vers_graphe(labyrinthe):\n",
        "    # Récupère les dimensions du labyrinthe\n",
        "    h, l = labyrinthe.hauteur, labyrinthe.largeur\n",
        "\n",
        "    # Crée une liste de tous les sommets (chaque cellule est un sommet identifié par ses coordonnées)\n",
        "    sommets = [(i, j) for i in range(h) for j in range(l)]\n",
        "\n",
        "    # Initialise un objet Graphe avec tous les sommets\n",
        "    graphe = Graphe(sommets)\n",
        "\n",
        "    # Parcourt chaque cellule du labyrinthe\n",
        "    for i in range(h):\n",
        "        for j in range(l):\n",
        "            cell = labyrinthe.grille[i][j]  # cellule courante\n",
        "\n",
        "            # Si pas de mur au nord et qu'on n'est pas sur la première ligne, ajoute une arête vers le voisin du haut\n",
        "            if not cell.murs['N'] and i > 0:\n",
        "                graphe.ajoute_arete((i, j), (i - 1, j))\n",
        "\n",
        "            # Si pas de mur au sud et qu'on n'est pas sur la dernière ligne, ajoute une arête vers le voisin du bas\n",
        "            if not cell.murs['S'] and i < h - 1:\n",
        "                graphe.ajoute_arete((i, j), (i + 1, j))\n",
        "\n",
        "            # Si pas de mur à l’est et qu'on n'est pas sur la dernière colonne, ajoute une arête vers le voisin de droite\n",
        "            if not cell.murs['E'] and j < l - 1:\n",
        "                graphe.ajoute_arete((i, j), (i, j + 1))\n",
        "\n",
        "            # Si pas de mur à l’ouest et qu'on n'est pas sur la première colonne, ajoute une arête vers le voisin de gauche\n",
        "            if not cell.murs['O'] and j > 0:\n",
        "                graphe.ajoute_arete((i, j), (i, j - 1))\n",
        "\n",
        "    # Retourne l'objet Graphe construit à partir de la structure du labyrinthe\n",
        "    return graphe\n"
      ],
      "metadata": {
        "id": "W3YqAvdiEfBM"
      },
      "execution_count": null,
      "outputs": []
    },
    {
      "cell_type": "markdown",
      "source": [
        "#### Affichage du graphe avec matplotlib"
      ],
      "metadata": {
        "id": "kp3WieZbvI7m"
      }
    },
    {
      "cell_type": "code",
      "source": [
        "import matplotlib.pyplot as plt\n",
        "\n",
        "def afficher_graphe(graphe, hauteur, entree=None, sortie=None):\n",
        "    fig, ax = plt.subplots(figsize=(8, 8))\n",
        "    ax.set_aspect('equal')\n",
        "    ax.axis('off')\n",
        "\n",
        "    # Titre du graphe\n",
        "    ax.set_title(\"Graphe (arbre couvrant) du labyrinthe\", fontsize=14)\n",
        "\n",
        "    for sommet in graphe.sommets():\n",
        "        x, y = sommet[1], hauteur - sommet[0] - 1\n",
        "        for voisin in graphe.voisins(sommet):\n",
        "            vx, vy = voisin[1], hauteur - voisin[0] - 1\n",
        "            ax.plot([x + 0.5, vx + 0.5], [y + 0.5, vy + 0.5], color='blue')\n",
        "\n",
        "    for sommet in graphe.sommets():\n",
        "        x, y = sommet[1], hauteur - sommet[0] - 1\n",
        "\n",
        "        if sommet == entree:\n",
        "            color = 'green'\n",
        "        elif sommet == sortie:\n",
        "            color = 'red'\n",
        "        else:\n",
        "            color = 'purple'\n",
        "\n",
        "        ax.plot(x + 0.5, y + 0.5, 'o', color=color, markersize=4)\n",
        "\n",
        "    # Légende\n",
        "    ax.plot([], [], ' ', label='Point vert = entrée')\n",
        "    ax.plot([], [], ' ', label='Point rouge = sortie')\n",
        "    ax.legend(loc='upper center', bbox_to_anchor=(0.5, -0.05))\n",
        "\n",
        "    plt.show()\n"
      ],
      "metadata": {
        "id": "T898TeRfME_4"
      },
      "execution_count": null,
      "outputs": []
    },
    {
      "cell_type": "markdown",
      "source": [
        "### Appel des classes et fonctions pour construire et afficher le labyrinthe ainsi que son graphe dans le notebook colab"
      ],
      "metadata": {
        "id": "BjT4V8YPvcJX"
      }
    },
    {
      "cell_type": "code",
      "source": [
        "lab = Labyrinthe(40, 40)  # Création d'un objet labyrinthe de dimensions 40x40\n",
        "lab.creer_labyrinthe(0, 0, 40, 40)  # Génération du labyrinthe parfait\n",
        "entree, sortie = lab.definir_entree_sortie()\n",
        "\n",
        "print(\"Entrée :\", entree)\n",
        "print(\"Sortie :\", sortie)\n",
        "\n",
        "# Afficher le labyrinthe\n",
        "afficher_labyrinthe(lab)\n",
        "\n",
        "# Construire et afficher le graphe\n",
        "graphe_lab = labyrinthe_vers_graphe(lab)\n",
        "afficher_graphe(graphe_lab, lab.hauteur, entree=entree, sortie=sortie)\n"
      ],
      "metadata": {
        "colab": {
          "base_uri": "https://localhost:8080/",
          "height": 1000
        },
        "id": "n_ONwdOAMmBz",
        "outputId": "42d1e240-b640-44fd-ccee-61e7bbd08f1e"
      },
      "execution_count": null,
      "outputs": [
        {
          "output_type": "stream",
          "name": "stdout",
          "text": [
            "Entrée : (0, 12)\n",
            "Sortie : (39, 18)\n"
          ]
        },
        {
          "output_type": "display_data",
          "data": {
            "text/plain": [
              "<Figure size 800x800 with 1 Axes>"
            ],
            "image/png": "[encoded data removed]"
          },
          "metadata": {}
        },
        {
          "output_type": "display_data",
          "data": {
            "text/plain": [
              "<Figure size 800x800 with 1 Axes>"
            ],
            "image/png": "[encoded data removed]"
          },
          "metadata": {}
        }
      ]
    },
    {
      "cell_type": "markdown",
      "source": [
        "## Étape 4 — Algorithmes de recherche\n",
        "\n",
        "Implémentation des algorithmes de recherche sur le graphe du labyrinthe :  \n",
        "DFS (profondeur), BFS (largeur), Dijkstra et A* (avec heuristique de Manhattan).  \n",
        "Chaque algorithme renverra le chemin trouvé ainsi que des métriques de comparaison :\n",
        "- Longueur du chemin\n",
        "- Nombre de nœuds explorés\n",
        "- Ratio d'exploration\n",
        "- Temps d'exécution\n"
      ],
      "metadata": {
        "id": "lZKghQ8lLpmT"
      }
    },
    {
      "cell_type": "markdown",
      "source": [
        "### Fonction utilitaire : reconstruction de chemin\n"
      ],
      "metadata": {
        "id": "gAyFDg65LeMd"
      }
    },
    {
      "cell_type": "code",
      "source": [
        "def recupere_chemin(depart, arrivee, parent):\n",
        "    \"\"\"\n",
        "    Reconstitue le chemin du départ à l'arrivée en remontant les parents.\n",
        "    \"\"\"\n",
        "    chemin = []\n",
        "    actuel = arrivee                   # Commence de la fin et on va remonter\n",
        "    while actuel is not None:\n",
        "        chemin.append(actuel)          # Ajouter le sommet courant au chemin\n",
        "        actuel = parent.get(actuel)    # Remonter au parent précédent\n",
        "    chemin.reverse()                   # Inverser l'ordre pour avoir le chemin correct\n",
        "    return chemin\n"
      ],
      "metadata": {
        "id": "y9hbmnqfLbDz"
      },
      "execution_count": null,
      "outputs": []
    },
    {
      "cell_type": "markdown",
      "source": [
        ">J'ai décidé de définir cette fonction avant les fonctions de recherche puisque je vais l'appeler dans chaque cellule d'algorithme.\n",
        "\n",
        "Chaque algorithme de recherche (DFS, BFS, Dijkstra, A*) construit un dictionnaire `parent` de la forme :\n",
        "\n",
        "```python\n",
        "parent = {\n",
        "    sommet1: parent_de_sommet1,\n",
        "    sommet2: parent_de_sommet2,\n",
        "    ...\n",
        "}\n",
        "```\n",
        "\n",
        "Ce dictionnaire permet de reconstituer le chemin du départ à l’arrivée. Pour chaque sommet, on enregistre le sommet par lequel on est arrivé à lui."
      ],
      "metadata": {
        "id": "DnQ-epggMSVg"
      }
    },
    {
      "cell_type": "markdown",
      "source": [
        "### Import des bibliothèques pour les algorithmes"
      ],
      "metadata": {
        "id": "8yCxsCXvLYx_"
      }
    },
    {
      "cell_type": "code",
      "source": [
        "import time\n",
        "from math import inf"
      ],
      "metadata": {
        "id": "iCCJN_DWLH8p"
      },
      "execution_count": null,
      "outputs": []
    },
    {
      "cell_type": "markdown",
      "source": [
        "### DFS, Depth First Search"
      ],
      "metadata": {
        "id": "hq4-csEpM6km"
      }
    },
    {
      "cell_type": "code",
      "source": [
        "def DFS(g, depart, arrivee):\n",
        "    \"\"\"\n",
        "    Parcours en profondeur (DFS) du graphe g en partant du sommet 'depart'.\n",
        "    S'arrête dès que le sommet 'arrivee' est atteint.\n",
        "    Renvoie le chemin du départ à l'arrivée.\n",
        "    Affiche les métriques : longueur du chemin, nombre de nœuds explorés, temps d'exécution.\n",
        "    \"\"\"\n",
        "\n",
        "    debut = time.time()  # Démarrer le chronomètre\n",
        "\n",
        "    traites = set()         # Ensemble des sommets déjà visités\n",
        "    pile = [depart]         # Structure LIFO pour le DFS\n",
        "    parent = {depart: None} # Dictionnaire pour reconstruire le chemin\n",
        "    noeuds_explores = 0     # Compteur de noeuds traités\n",
        "\n",
        "    while pile:\n",
        "        actuel = pile.pop()       # Récupère le sommet en haut de la pile\n",
        "        noeuds_explores += 1      # Ajout au compteur\n",
        "\n",
        "        if actuel == arrivee:     # Arrêt dès qu'on atteint l'arrivée\n",
        "            break\n",
        "\n",
        "        if actuel not in traites:\n",
        "            traites.add(actuel)\n",
        "\n",
        "            # Parcours des voisins en ordre inversé pour respecter la logique DFS\n",
        "            for voisin in reversed(g.voisins(actuel)):\n",
        "                if voisin not in traites and voisin not in parent:\n",
        "                    pile.append(voisin)\n",
        "                    parent[voisin] = actuel  # Enregistrer le parent pour reconstruire le chemin\n",
        "\n",
        "    fin = time.time()  # Arrêter le chronomètre\n",
        "\n",
        "    chemin = recupere_chemin(depart, arrivee, parent)  # Reconstruire le chemin final\n",
        "\n",
        "    resume = {\n",
        "        \"Algorithme\": \"DFS\",\n",
        "        \"Longueur du chemin\": len(chemin),\n",
        "        \"Noeuds explorés\": noeuds_explores,\n",
        "        \"Ratio exploration\": round(noeuds_explores / len(chemin), 2),\n",
        "        \"Temps (s)\": round(fin - debut, 6)\n",
        "    }\n",
        "\n",
        "    return chemin, resume\n"
      ],
      "metadata": {
        "id": "zwtNOJbeLCpn"
      },
      "execution_count": null,
      "outputs": []
    },
    {
      "cell_type": "code",
      "source": [
        "chemin_dfs, resultat_dfs = DFS(graphe_lab, entree, sortie)\n",
        "print(\"DFS :\")\n",
        "print(\"Longueur du chemin :\", resultat_dfs[\"Longueur du chemin\"])\n",
        "print(\"Noeuds explorés    :\", resultat_dfs[\"Noeuds explorés\"])\n",
        "print(\"Ratio exploration   :\", resultat_dfs[\"Ratio exploration\"])\n",
        "print(\"Temps d'exécution  :\", resultat_dfs[\"Temps (s)\"], \"secondes\")\n",
        "print(\"Chemin :\", chemin_dfs)"
      ],
      "metadata": {
        "colab": {
          "base_uri": "https://localhost:8080/"
        },
        "id": "_Fv80uWUOjPS",
        "outputId": "3087dc23-3902-48e6-8da4-7e21a2deb48a"
      },
      "execution_count": null,
      "outputs": [
        {
          "output_type": "stream",
          "name": "stdout",
          "text": [
            "DFS :\n",
            "Longueur du chemin : 642\n",
            "Noeuds explorés    : 1100\n",
            "Ratio exploration   : 1.71\n",
            "Temps d'exécution  : 0.001897 secondes\n",
            "Chemin : [(0, 12), (1, 12), (2, 12), (2, 11), (2, 10), (2, 9), (2, 8), (1, 8), (1, 7), (1, 6), (1, 5), (2, 5), (3, 5), (3, 4), (4, 4), (4, 3), (3, 3), (2, 3), (2, 2), (3, 2), (4, 2), (4, 1), (3, 1), (3, 0), (4, 0), (5, 0), (5, 1), (6, 1), (6, 0), (7, 0), (7, 1), (7, 2), (7, 3), (8, 3), (8, 4), (8, 5), (7, 5), (7, 6), (8, 6), (9, 6), (9, 5), (10, 5), (10, 4), (11, 4), (12, 4), (12, 5), (12, 6), (12, 7), (11, 7), (11, 8), (12, 8), (12, 9), (13, 9), (13, 8), (13, 7), (13, 6), (14, 6), (14, 7), (15, 7), (15, 8), (15, 9), (14, 9), (14, 10), (13, 10), (12, 10), (11, 10), (10, 10), (10, 9), (10, 8), (9, 8), (9, 7), (8, 7), (8, 8), (8, 9), (7, 9), (7, 10), (7, 11), (7, 12), (6, 12), (6, 11), (5, 11), (4, 11), (4, 10), (3, 10), (3, 11), (3, 12), (3, 13), (2, 13), (2, 14), (1, 14), (0, 14), (0, 15), (1, 15), (2, 15), (3, 15), (3, 14), (4, 14), (4, 13), (5, 13), (5, 14), (5, 15), (5, 16), (4, 16), (3, 16), (3, 17), (4, 17), (5, 17), (6, 17), (6, 16), (6, 15), (7, 15), (7, 14), (6, 14), (6, 13), (7, 13), (8, 13), (8, 14), (9, 14), (9, 15), (10, 15), (10, 14), (11, 14), (11, 13), (10, 13), (9, 13), (9, 12), (10, 12), (10, 11), (11, 11), (12, 11), (13, 11), (14, 11), (14, 12), (15, 12), (16, 12), (16, 11), (16, 10), (17, 10), (17, 9), (17, 8), (17, 7), (17, 6), (16, 6), (16, 5), (16, 4), (16, 3), (17, 3), (18, 3), (18, 4), (19, 4), (19, 5), (19, 6), (19, 7), (19, 8), (20, 8), (20, 9), (20, 10), (20, 11), (20, 12), (20, 13), (20, 14), (19, 14), (19, 13), (19, 12), (19, 11), (19, 10), (19, 9), (18, 9), (18, 10), (18, 11), (18, 12), (17, 12), (17, 13), (16, 13), (16, 14), (17, 14), (18, 14), (18, 15), (17, 15), (16, 15), (15, 15), (14, 15), (14, 16), (14, 17), (13, 17), (12, 17), (12, 18), (12, 19), (12, 20), (11, 20), (11, 19), (10, 19), (10, 20), (10, 21), (10, 22), (9, 22), (8, 22), (8, 21), (9, 21), (9, 20), (9, 19), (8, 19), (8, 20), (7, 20), (7, 21), (7, 22), (7, 23), (8, 23), (8, 24), (9, 24), (9, 25), (10, 25), (10, 26), (9, 26), (8, 26), (7, 26), (7, 27), (8, 27), (9, 27), (9, 28), (9, 29), (9, 30), (9, 31), (9, 32), (9, 33), (8, 33), (7, 33), (6, 33), (6, 34), (6, 35), (6, 36), (7, 36), (7, 35), (7, 34), (8, 34), (8, 35), (8, 36), (8, 37), (8, 38), (7, 38), (6, 38), (6, 39), (7, 39), (8, 39), (9, 39), (9, 38), (9, 37), (10, 37), (10, 38), (11, 38), (11, 39), (12, 39), (12, 38), (13, 38), (13, 37), (14, 37), (15, 37), (16, 37), (16, 36), (16, 35), (16, 34), (15, 34), (14, 34), (13, 34), (12, 34), (11, 34), (10, 34), (10, 33), (11, 33), (11, 32), (11, 31), (10, 31), (10, 30), (11, 30), (12, 30), (13, 30), (13, 29), (13, 28), (14, 28), (15, 28), (15, 29), (16, 29), (16, 28), (17, 28), (17, 29), (18, 29), (18, 30), (19, 30), (20, 30), (20, 29), (20, 28), (19, 28), (18, 28), (18, 27), (18, 26), (19, 26), (19, 27), (20, 27), (21, 27), (21, 26), (20, 26), (20, 25), (20, 24), (20, 23), (20, 22), (19, 22), (18, 22), (18, 21), (18, 20), (18, 19), (18, 18), (19, 18), (19, 17), (20, 17), (20, 18), (20, 19), (19, 19), (19, 20), (20, 20), (20, 21), (21, 21), (21, 22), (22, 22), (23, 22), (23, 23), (23, 24), (22, 24), (22, 23), (21, 23), (21, 24), (21, 25), (22, 25), (22, 26), (23, 26), (23, 25), (24, 25), (24, 24), (25, 24), (25, 23), (25, 22), (25, 21), (24, 21), (23, 21), (22, 21), (22, 20), (21, 20), (21, 19), (22, 19), (23, 19), (23, 20), (24, 20), (25, 20), (26, 20), (27, 20), (27, 19), (27, 18), (26, 18), (25, 18), (24, 18), (23, 18), (22, 18), (21, 18), (21, 17), (21, 16), (21, 15), (21, 14), (21, 13), (21, 12), (21, 11), (22, 11), (22, 10), (22, 9), (21, 9), (21, 8), (22, 8), (22, 7), (23, 7), (23, 6), (23, 5), (23, 4), (23, 3), (23, 2), (22, 2), (22, 3), (22, 4), (22, 5), (21, 5), (21, 6), (20, 6), (20, 5), (20, 4), (20, 3), (21, 3), (21, 2), (20, 2), (20, 1), (19, 1), (19, 2), (18, 2), (17, 2), (17, 1), (16, 1), (15, 1), (15, 2), (14, 2), (14, 3), (15, 3), (15, 4), (14, 4), (13, 4), (13, 3), (12, 3), (11, 3), (11, 2), (11, 1), (11, 0), (12, 0), (12, 1), (12, 2), (13, 2), (13, 1), (14, 1), (14, 0), (15, 0), (16, 0), (17, 0), (18, 0), (19, 0), (20, 0), (21, 0), (21, 1), (22, 1), (22, 0), (23, 0), (23, 1), (24, 1), (24, 2), (24, 3), (25, 3), (26, 3), (27, 3), (27, 4), (26, 4), (26, 5), (27, 5), (28, 5), (28, 6), (27, 6), (26, 6), (26, 7), (25, 7), (25, 6), (25, 5), (25, 4), (24, 4), (24, 5), (24, 6), (24, 7), (24, 8), (24, 9), (25, 9), (25, 8), (26, 8), (26, 9), (26, 10), (25, 10), (24, 10), (24, 11), (25, 11), (26, 11), (26, 12), (25, 12), (24, 12), (23, 12), (23, 13), (23, 14), (23, 15), (22, 15), (22, 16), (22, 17), (23, 17), (24, 17), (25, 17), (26, 17), (26, 16), (26, 15), (26, 14), (27, 14), (28, 14), (29, 14), (30, 14), (30, 15), (29, 15), (28, 15), (28, 16), (27, 16), (27, 17), (28, 17), (29, 17), (30, 17), (30, 16), (31, 16), (32, 16), (32, 17), (31, 17), (31, 18), (30, 18), (30, 19), (30, 20), (30, 21), (31, 21), (31, 20), (31, 19), (32, 19), (32, 18), (33, 18), (33, 17), (34, 17), (34, 16), (34, 15), (33, 15), (33, 14), (33, 13), (33, 12), (32, 12), (31, 12), (30, 12), (29, 12), (28, 12), (28, 13), (27, 13), (27, 12), (27, 11), (27, 10), (27, 9), (28, 9), (28, 10), (29, 10), (29, 9), (30, 9), (31, 9), (31, 8), (32, 8), (32, 9), (33, 9), (33, 10), (33, 11), (34, 11), (34, 10), (34, 9), (35, 9), (35, 8), (35, 7), (34, 7), (34, 8), (33, 8), (33, 7), (33, 6), (33, 5), (34, 5), (35, 5), (35, 6), (36, 6), (36, 5), (37, 5), (37, 4), (36, 4), (36, 3), (35, 3), (34, 3), (34, 4), (33, 4), (33, 3), (32, 3), (31, 3), (31, 4), (30, 4), (29, 4), (29, 3), (28, 3), (28, 2), (28, 1), (27, 1), (27, 0), (28, 0), (29, 0), (30, 0), (31, 0), (31, 1), (32, 1), (32, 2), (33, 2), (33, 1), (33, 0), (34, 0), (34, 1), (34, 2), (35, 2), (36, 2), (37, 2), (38, 2), (38, 1), (38, 0), (39, 0), (39, 1), (39, 2), (39, 3), (39, 4), (39, 5), (39, 6), (38, 6), (37, 6), (37, 7), (36, 7), (36, 8), (36, 9), (36, 10), (35, 10), (35, 11), (36, 11), (37, 11), (37, 12), (36, 12), (36, 13), (37, 13), (37, 14), (38, 14), (38, 13), (38, 12), (38, 11), (39, 11), (39, 12), (39, 13), (39, 14), (39, 15), (38, 15), (37, 15), (37, 16), (38, 16), (39, 16), (39, 17), (39, 18)]\n"
          ]
        }
      ]
    },
    {
      "cell_type": "markdown",
      "source": [
        "### BFS, Breadth First Search"
      ],
      "metadata": {
        "id": "O6Bln1XHS6mr"
      }
    },
    {
      "cell_type": "code",
      "source": [
        "def BFS(g, depart, arrivee):\n",
        "    \"\"\"\n",
        "    Parcours en largeur (BFS) du graphe g en partant du sommet 'depart'.\n",
        "    S'arrête dès que le sommet 'arrivee' est atteint.\n",
        "    Renvoie le chemin du départ à l'arrivée.\n",
        "    Affiche les métriques : longueur du chemin, nombre de nœuds explorés, temps d'exécution.\n",
        "    \"\"\"\n",
        "\n",
        "    debut = time.time()  # Démarrer le chronomètre\n",
        "\n",
        "    traites = []              # Liste des sommets complètement explorés (traités)\n",
        "    decouverts = [depart]     # Sommets découverts\n",
        "    en_attente = [depart]     # Structure FIFO pour le BFS\n",
        "    parent = {depart: None}   # Dictionnaire pour reconstruire le chemin\n",
        "    noeuds_explores = 0       # Compteur de noeuds traités\n",
        "\n",
        "    while en_attente != []:\n",
        "        sommet = en_attente.pop(0)  # Prend le sommet en tête de file\n",
        "        noeuds_explores += 1        # Ajout au compteur\n",
        "\n",
        "        # Arrêt dès qu'on atteint l'arrivée\n",
        "        if sommet == arrivee:\n",
        "            break\n",
        "\n",
        "        # Explore les voisins non encore découverts\n",
        "        for voisin in g.voisins(sommet):\n",
        "            if voisin not in decouverts:\n",
        "                decouverts.append(voisin)\n",
        "                en_attente.append(voisin)\n",
        "                parent[voisin] = sommet  # Enregistrer le parent pour reconstruire le chemin\n",
        "\n",
        "        traites.append(sommet)  # Marque le sommet comme traité\n",
        "\n",
        "    fin = time.time()  # Arrêter le chronomètre\n",
        "\n",
        "    chemin = recupere_chemin(depart, arrivee, parent)  # Reconstruire le chemin final\n",
        "\n",
        "    resume = {\n",
        "        \"Algorithme\": \"BFS\",\n",
        "        \"Longueur du chemin\": len(chemin),\n",
        "        \"Noeuds explorés\": noeuds_explores,\n",
        "        \"Ratio exploration\": round(noeuds_explores / len(chemin), 2),\n",
        "        \"Temps (s)\": round(fin - debut, 6)\n",
        "    }\n",
        "\n",
        "    return chemin, resume\n"
      ],
      "metadata": {
        "id": "OXyfItAZS4-8"
      },
      "execution_count": null,
      "outputs": []
    },
    {
      "cell_type": "code",
      "source": [
        "chemin_bfs, resultat_bfs = BFS(graphe_lab, entree, sortie)\n",
        "print(\"Chemin BFS :\")\n",
        "print(\"Longueur du chemin :\", resultat_bfs[\"Longueur du chemin\"])\n",
        "print(\"Noeuds explorés    :\", resultat_bfs[\"Noeuds explorés\"])\n",
        "print(\"Ratio exploration   :\", resultat_bfs[\"Ratio exploration\"])\n",
        "print(\"Temps d'exécution  :\", resultat_bfs[\"Temps (s)\"], \"secondes\")\n",
        "print(\"Chemin :\", chemin_bfs)"
      ],
      "metadata": {
        "colab": {
          "base_uri": "https://localhost:8080/"
        },
        "id": "t4F4ug01VK8z",
        "outputId": "9cb361a5-db62-4f0a-e47f-67f689c716fe"
      },
      "execution_count": null,
      "outputs": [
        {
          "output_type": "stream",
          "name": "stdout",
          "text": [
            "Chemin BFS :\n",
            "Longueur du chemin : 642\n",
            "Noeuds explorés    : 1165\n",
            "Ratio exploration   : 1.81\n",
            "Temps d'exécution  : 0.068225 secondes\n",
            "Chemin : [(0, 12), (1, 12), (2, 12), (2, 11), (2, 10), (2, 9), (2, 8), (1, 8), (1, 7), (1, 6), (1, 5), (2, 5), (3, 5), (3, 4), (4, 4), (4, 3), (3, 3), (2, 3), (2, 2), (3, 2), (4, 2), (4, 1), (3, 1), (3, 0), (4, 0), (5, 0), (5, 1), (6, 1), (6, 0), (7, 0), (7, 1), (7, 2), (7, 3), (8, 3), (8, 4), (8, 5), (7, 5), (7, 6), (8, 6), (9, 6), (9, 5), (10, 5), (10, 4), (11, 4), (12, 4), (12, 5), (12, 6), (12, 7), (11, 7), (11, 8), (12, 8), (12, 9), (13, 9), (13, 8), (13, 7), (13, 6), (14, 6), (14, 7), (15, 7), (15, 8), (15, 9), (14, 9), (14, 10), (13, 10), (12, 10), (11, 10), (10, 10), (10, 9), (10, 8), (9, 8), (9, 7), (8, 7), (8, 8), (8, 9), (7, 9), (7, 10), (7, 11), (7, 12), (6, 12), (6, 11), (5, 11), (4, 11), (4, 10), (3, 10), (3, 11), (3, 12), (3, 13), (2, 13), (2, 14), (1, 14), (0, 14), (0, 15), (1, 15), (2, 15), (3, 15), (3, 14), (4, 14), (4, 13), (5, 13), (5, 14), (5, 15), (5, 16), (4, 16), (3, 16), (3, 17), (4, 17), (5, 17), (6, 17), (6, 16), (6, 15), (7, 15), (7, 14), (6, 14), (6, 13), (7, 13), (8, 13), (8, 14), (9, 14), (9, 15), (10, 15), (10, 14), (11, 14), (11, 13), (10, 13), (9, 13), (9, 12), (10, 12), (10, 11), (11, 11), (12, 11), (13, 11), (14, 11), (14, 12), (15, 12), (16, 12), (16, 11), (16, 10), (17, 10), (17, 9), (17, 8), (17, 7), (17, 6), (16, 6), (16, 5), (16, 4), (16, 3), (17, 3), (18, 3), (18, 4), (19, 4), (19, 5), (19, 6), (19, 7), (19, 8), (20, 8), (20, 9), (20, 10), (20, 11), (20, 12), (20, 13), (20, 14), (19, 14), (19, 13), (19, 12), (19, 11), (19, 10), (19, 9), (18, 9), (18, 10), (18, 11), (18, 12), (17, 12), (17, 13), (16, 13), (16, 14), (17, 14), (18, 14), (18, 15), (17, 15), (16, 15), (15, 15), (14, 15), (14, 16), (14, 17), (13, 17), (12, 17), (12, 18), (12, 19), (12, 20), (11, 20), (11, 19), (10, 19), (10, 20), (10, 21), (10, 22), (9, 22), (8, 22), (8, 21), (9, 21), (9, 20), (9, 19), (8, 19), (8, 20), (7, 20), (7, 21), (7, 22), (7, 23), (8, 23), (8, 24), (9, 24), (9, 25), (10, 25), (10, 26), (9, 26), (8, 26), (7, 26), (7, 27), (8, 27), (9, 27), (9, 28), (9, 29), (9, 30), (9, 31), (9, 32), (9, 33), (8, 33), (7, 33), (6, 33), (6, 34), (6, 35), (6, 36), (7, 36), (7, 35), (7, 34), (8, 34), (8, 35), (8, 36), (8, 37), (8, 38), (7, 38), (6, 38), (6, 39), (7, 39), (8, 39), (9, 39), (9, 38), (9, 37), (10, 37), (10, 38), (11, 38), (11, 39), (12, 39), (12, 38), (13, 38), (13, 37), (14, 37), (15, 37), (16, 37), (16, 36), (16, 35), (16, 34), (15, 34), (14, 34), (13, 34), (12, 34), (11, 34), (10, 34), (10, 33), (11, 33), (11, 32), (11, 31), (10, 31), (10, 30), (11, 30), (12, 30), (13, 30), (13, 29), (13, 28), (14, 28), (15, 28), (15, 29), (16, 29), (16, 28), (17, 28), (17, 29), (18, 29), (18, 30), (19, 30), (20, 30), (20, 29), (20, 28), (19, 28), (18, 28), (18, 27), (18, 26), (19, 26), (19, 27), (20, 27), (21, 27), (21, 26), (20, 26), (20, 25), (20, 24), (20, 23), (20, 22), (19, 22), (18, 22), (18, 21), (18, 20), (18, 19), (18, 18), (19, 18), (19, 17), (20, 17), (20, 18), (20, 19), (19, 19), (19, 20), (20, 20), (20, 21), (21, 21), (21, 22), (22, 22), (23, 22), (23, 23), (23, 24), (22, 24), (22, 23), (21, 23), (21, 24), (21, 25), (22, 25), (22, 26), (23, 26), (23, 25), (24, 25), (24, 24), (25, 24), (25, 23), (25, 22), (25, 21), (24, 21), (23, 21), (22, 21), (22, 20), (21, 20), (21, 19), (22, 19), (23, 19), (23, 20), (24, 20), (25, 20), (26, 20), (27, 20), (27, 19), (27, 18), (26, 18), (25, 18), (24, 18), (23, 18), (22, 18), (21, 18), (21, 17), (21, 16), (21, 15), (21, 14), (21, 13), (21, 12), (21, 11), (22, 11), (22, 10), (22, 9), (21, 9), (21, 8), (22, 8), (22, 7), (23, 7), (23, 6), (23, 5), (23, 4), (23, 3), (23, 2), (22, 2), (22, 3), (22, 4), (22, 5), (21, 5), (21, 6), (20, 6), (20, 5), (20, 4), (20, 3), (21, 3), (21, 2), (20, 2), (20, 1), (19, 1), (19, 2), (18, 2), (17, 2), (17, 1), (16, 1), (15, 1), (15, 2), (14, 2), (14, 3), (15, 3), (15, 4), (14, 4), (13, 4), (13, 3), (12, 3), (11, 3), (11, 2), (11, 1), (11, 0), (12, 0), (12, 1), (12, 2), (13, 2), (13, 1), (14, 1), (14, 0), (15, 0), (16, 0), (17, 0), (18, 0), (19, 0), (20, 0), (21, 0), (21, 1), (22, 1), (22, 0), (23, 0), (23, 1), (24, 1), (24, 2), (24, 3), (25, 3), (26, 3), (27, 3), (27, 4), (26, 4), (26, 5), (27, 5), (28, 5), (28, 6), (27, 6), (26, 6), (26, 7), (25, 7), (25, 6), (25, 5), (25, 4), (24, 4), (24, 5), (24, 6), (24, 7), (24, 8), (24, 9), (25, 9), (25, 8), (26, 8), (26, 9), (26, 10), (25, 10), (24, 10), (24, 11), (25, 11), (26, 11), (26, 12), (25, 12), (24, 12), (23, 12), (23, 13), (23, 14), (23, 15), (22, 15), (22, 16), (22, 17), (23, 17), (24, 17), (25, 17), (26, 17), (26, 16), (26, 15), (26, 14), (27, 14), (28, 14), (29, 14), (30, 14), (30, 15), (29, 15), (28, 15), (28, 16), (27, 16), (27, 17), (28, 17), (29, 17), (30, 17), (30, 16), (31, 16), (32, 16), (32, 17), (31, 17), (31, 18), (30, 18), (30, 19), (30, 20), (30, 21), (31, 21), (31, 20), (31, 19), (32, 19), (32, 18), (33, 18), (33, 17), (34, 17), (34, 16), (34, 15), (33, 15), (33, 14), (33, 13), (33, 12), (32, 12), (31, 12), (30, 12), (29, 12), (28, 12), (28, 13), (27, 13), (27, 12), (27, 11), (27, 10), (27, 9), (28, 9), (28, 10), (29, 10), (29, 9), (30, 9), (31, 9), (31, 8), (32, 8), (32, 9), (33, 9), (33, 10), (33, 11), (34, 11), (34, 10), (34, 9), (35, 9), (35, 8), (35, 7), (34, 7), (34, 8), (33, 8), (33, 7), (33, 6), (33, 5), (34, 5), (35, 5), (35, 6), (36, 6), (36, 5), (37, 5), (37, 4), (36, 4), (36, 3), (35, 3), (34, 3), (34, 4), (33, 4), (33, 3), (32, 3), (31, 3), (31, 4), (30, 4), (29, 4), (29, 3), (28, 3), (28, 2), (28, 1), (27, 1), (27, 0), (28, 0), (29, 0), (30, 0), (31, 0), (31, 1), (32, 1), (32, 2), (33, 2), (33, 1), (33, 0), (34, 0), (34, 1), (34, 2), (35, 2), (36, 2), (37, 2), (38, 2), (38, 1), (38, 0), (39, 0), (39, 1), (39, 2), (39, 3), (39, 4), (39, 5), (39, 6), (38, 6), (37, 6), (37, 7), (36, 7), (36, 8), (36, 9), (36, 10), (35, 10), (35, 11), (36, 11), (37, 11), (37, 12), (36, 12), (36, 13), (37, 13), (37, 14), (38, 14), (38, 13), (38, 12), (38, 11), (39, 11), (39, 12), (39, 13), (39, 14), (39, 15), (38, 15), (37, 15), (37, 16), (38, 16), (39, 16), (39, 17), (39, 18)]\n"
          ]
        }
      ]
    },
    {
      "cell_type": "markdown",
      "source": [
        "### Dijkstra"
      ],
      "metadata": {
        "id": "udLSDV7bWu6G"
      }
    },
    {
      "cell_type": "code",
      "source": [
        "def Dijkstra(g, depart, arrivee):\n",
        "    \"\"\"\n",
        "    Algorithme de Dijkstra adapté à un graphe g non pondéré.\n",
        "    S'arrête dès que le noeud s_min 'arrivee' est atteint.\n",
        "    Calcule le plus court chemin de 'depart' à 'arrivee'.\n",
        "    Affiche les métriques : longueur du chemin, nœuds explorés, temps d'exécution.\n",
        "    \"\"\"\n",
        "\n",
        "    debut = time.time()    # Démarrer le chronomètre\n",
        "\n",
        "    distances = {s: [inf, None] for s in g.sommets()}  # {sommet: [distance, parent]}\n",
        "    distances[depart] = [0, None]\n",
        "\n",
        "    visites = []           # Sommets déjà traités\n",
        "    decouverts = [depart]  # Sommets en attente de traitement\n",
        "    noeuds_explores = 0    # Compteur de noeuds traités\n",
        "\n",
        "    while decouverts:\n",
        "        # Trouver le sommet avec la plus petite distance estimée\n",
        "        dmin = inf\n",
        "        for s in decouverts:\n",
        "            if distances[s][0] < dmin:\n",
        "                dmin = distances[s][0]\n",
        "                s_min = s\n",
        "\n",
        "        decouverts.remove(s_min)\n",
        "        visites.append(s_min)\n",
        "        noeuds_explores += 1  # Ajout au compteur\n",
        "\n",
        "        # Arrêt dès qu'on atteint l'arrivée\n",
        "        if s_min == arrivee:\n",
        "            break\n",
        "\n",
        "        for voisin in [v for v in g.voisins(s_min) if v not in visites]:\n",
        "            if voisin not in decouverts:\n",
        "                decouverts.append(voisin)\n",
        "                distances[voisin] = [distances[s_min][0] + 1, s_min]\n",
        "\n",
        "                # Le + 1 signifie que chaque arête a un poids de 1 dans le labyrinthe\n",
        "\n",
        "            else:\n",
        "                if distances[s_min][0] + 1 < distances[voisin][0]:  # Si cette nouvelle distance est plus petite que celle enregistrée dans le dictionnaire\n",
        "                    distances[voisin] = [distances[s_min][0] + 1, s_min]\n",
        "\n",
        "    fin = time.time()    # Arrêter le chronomètre\n",
        "\n",
        "    # Reconstruire le chemin depuis les parents\n",
        "    parent = {s: distances[s][1] for s in distances if distances[s][1] is not None or s == depart}\n",
        "    chemin = recupere_chemin(depart, arrivee, parent)\n",
        "\n",
        "    resume = {\n",
        "        \"Algorithme\": \"Dijkstra\",\n",
        "        \"Longueur du chemin\": len(chemin),\n",
        "        \"Noeuds explorés\": noeuds_explores,\n",
        "        \"Ratio exploration\": round(noeuds_explores / len(chemin), 2),\n",
        "        \"Temps (s)\": round(fin - debut, 6)\n",
        "    }\n",
        "\n",
        "    return chemin, resume\n"
      ],
      "metadata": {
        "id": "ycjJJbLTYaPL"
      },
      "execution_count": null,
      "outputs": []
    },
    {
      "cell_type": "code",
      "source": [
        "chemin_dijkstra, resultat_dijkstra = Dijkstra(graphe_lab, entree, sortie)\n",
        "print(\"Chemin Dijkstra :\")\n",
        "print(\"Longueur du chemin :\", resultat_dijkstra[\"Longueur du chemin\"])\n",
        "print(\"Noeuds explorés    :\", resultat_dijkstra[\"Noeuds explorés\"])\n",
        "print(\"Ratio exploration   :\", resultat_dijkstra[\"Ratio exploration\"])\n",
        "print(\"Temps d'exécution  :\", resultat_dijkstra[\"Temps (s)\"], \"secondes\")\n",
        "print(\"Chemin :\", chemin_dijkstra)"
      ],
      "metadata": {
        "colab": {
          "base_uri": "https://localhost:8080/"
        },
        "id": "jtXtWMM0hVA0",
        "outputId": "34a9d1eb-005a-4aa4-ab6c-6d42b3e43aa3"
      },
      "execution_count": null,
      "outputs": [
        {
          "output_type": "stream",
          "name": "stdout",
          "text": [
            "Chemin Dijkstra :\n",
            "Longueur du chemin : 642\n",
            "Noeuds explorés    : 1165\n",
            "Ratio exploration   : 1.81\n",
            "Temps d'exécution  : 0.06199 secondes\n",
            "Chemin : [(0, 12), (1, 12), (2, 12), (2, 11), (2, 10), (2, 9), (2, 8), (1, 8), (1, 7), (1, 6), (1, 5), (2, 5), (3, 5), (3, 4), (4, 4), (4, 3), (3, 3), (2, 3), (2, 2), (3, 2), (4, 2), (4, 1), (3, 1), (3, 0), (4, 0), (5, 0), (5, 1), (6, 1), (6, 0), (7, 0), (7, 1), (7, 2), (7, 3), (8, 3), (8, 4), (8, 5), (7, 5), (7, 6), (8, 6), (9, 6), (9, 5), (10, 5), (10, 4), (11, 4), (12, 4), (12, 5), (12, 6), (12, 7), (11, 7), (11, 8), (12, 8), (12, 9), (13, 9), (13, 8), (13, 7), (13, 6), (14, 6), (14, 7), (15, 7), (15, 8), (15, 9), (14, 9), (14, 10), (13, 10), (12, 10), (11, 10), (10, 10), (10, 9), (10, 8), (9, 8), (9, 7), (8, 7), (8, 8), (8, 9), (7, 9), (7, 10), (7, 11), (7, 12), (6, 12), (6, 11), (5, 11), (4, 11), (4, 10), (3, 10), (3, 11), (3, 12), (3, 13), (2, 13), (2, 14), (1, 14), (0, 14), (0, 15), (1, 15), (2, 15), (3, 15), (3, 14), (4, 14), (4, 13), (5, 13), (5, 14), (5, 15), (5, 16), (4, 16), (3, 16), (3, 17), (4, 17), (5, 17), (6, 17), (6, 16), (6, 15), (7, 15), (7, 14), (6, 14), (6, 13), (7, 13), (8, 13), (8, 14), (9, 14), (9, 15), (10, 15), (10, 14), (11, 14), (11, 13), (10, 13), (9, 13), (9, 12), (10, 12), (10, 11), (11, 11), (12, 11), (13, 11), (14, 11), (14, 12), (15, 12), (16, 12), (16, 11), (16, 10), (17, 10), (17, 9), (17, 8), (17, 7), (17, 6), (16, 6), (16, 5), (16, 4), (16, 3), (17, 3), (18, 3), (18, 4), (19, 4), (19, 5), (19, 6), (19, 7), (19, 8), (20, 8), (20, 9), (20, 10), (20, 11), (20, 12), (20, 13), (20, 14), (19, 14), (19, 13), (19, 12), (19, 11), (19, 10), (19, 9), (18, 9), (18, 10), (18, 11), (18, 12), (17, 12), (17, 13), (16, 13), (16, 14), (17, 14), (18, 14), (18, 15), (17, 15), (16, 15), (15, 15), (14, 15), (14, 16), (14, 17), (13, 17), (12, 17), (12, 18), (12, 19), (12, 20), (11, 20), (11, 19), (10, 19), (10, 20), (10, 21), (10, 22), (9, 22), (8, 22), (8, 21), (9, 21), (9, 20), (9, 19), (8, 19), (8, 20), (7, 20), (7, 21), (7, 22), (7, 23), (8, 23), (8, 24), (9, 24), (9, 25), (10, 25), (10, 26), (9, 26), (8, 26), (7, 26), (7, 27), (8, 27), (9, 27), (9, 28), (9, 29), (9, 30), (9, 31), (9, 32), (9, 33), (8, 33), (7, 33), (6, 33), (6, 34), (6, 35), (6, 36), (7, 36), (7, 35), (7, 34), (8, 34), (8, 35), (8, 36), (8, 37), (8, 38), (7, 38), (6, 38), (6, 39), (7, 39), (8, 39), (9, 39), (9, 38), (9, 37), (10, 37), (10, 38), (11, 38), (11, 39), (12, 39), (12, 38), (13, 38), (13, 37), (14, 37), (15, 37), (16, 37), (16, 36), (16, 35), (16, 34), (15, 34), (14, 34), (13, 34), (12, 34), (11, 34), (10, 34), (10, 33), (11, 33), (11, 32), (11, 31), (10, 31), (10, 30), (11, 30), (12, 30), (13, 30), (13, 29), (13, 28), (14, 28), (15, 28), (15, 29), (16, 29), (16, 28), (17, 28), (17, 29), (18, 29), (18, 30), (19, 30), (20, 30), (20, 29), (20, 28), (19, 28), (18, 28), (18, 27), (18, 26), (19, 26), (19, 27), (20, 27), (21, 27), (21, 26), (20, 26), (20, 25), (20, 24), (20, 23), (20, 22), (19, 22), (18, 22), (18, 21), (18, 20), (18, 19), (18, 18), (19, 18), (19, 17), (20, 17), (20, 18), (20, 19), (19, 19), (19, 20), (20, 20), (20, 21), (21, 21), (21, 22), (22, 22), (23, 22), (23, 23), (23, 24), (22, 24), (22, 23), (21, 23), (21, 24), (21, 25), (22, 25), (22, 26), (23, 26), (23, 25), (24, 25), (24, 24), (25, 24), (25, 23), (25, 22), (25, 21), (24, 21), (23, 21), (22, 21), (22, 20), (21, 20), (21, 19), (22, 19), (23, 19), (23, 20), (24, 20), (25, 20), (26, 20), (27, 20), (27, 19), (27, 18), (26, 18), (25, 18), (24, 18), (23, 18), (22, 18), (21, 18), (21, 17), (21, 16), (21, 15), (21, 14), (21, 13), (21, 12), (21, 11), (22, 11), (22, 10), (22, 9), (21, 9), (21, 8), (22, 8), (22, 7), (23, 7), (23, 6), (23, 5), (23, 4), (23, 3), (23, 2), (22, 2), (22, 3), (22, 4), (22, 5), (21, 5), (21, 6), (20, 6), (20, 5), (20, 4), (20, 3), (21, 3), (21, 2), (20, 2), (20, 1), (19, 1), (19, 2), (18, 2), (17, 2), (17, 1), (16, 1), (15, 1), (15, 2), (14, 2), (14, 3), (15, 3), (15, 4), (14, 4), (13, 4), (13, 3), (12, 3), (11, 3), (11, 2), (11, 1), (11, 0), (12, 0), (12, 1), (12, 2), (13, 2), (13, 1), (14, 1), (14, 0), (15, 0), (16, 0), (17, 0), (18, 0), (19, 0), (20, 0), (21, 0), (21, 1), (22, 1), (22, 0), (23, 0), (23, 1), (24, 1), (24, 2), (24, 3), (25, 3), (26, 3), (27, 3), (27, 4), (26, 4), (26, 5), (27, 5), (28, 5), (28, 6), (27, 6), (26, 6), (26, 7), (25, 7), (25, 6), (25, 5), (25, 4), (24, 4), (24, 5), (24, 6), (24, 7), (24, 8), (24, 9), (25, 9), (25, 8), (26, 8), (26, 9), (26, 10), (25, 10), (24, 10), (24, 11), (25, 11), (26, 11), (26, 12), (25, 12), (24, 12), (23, 12), (23, 13), (23, 14), (23, 15), (22, 15), (22, 16), (22, 17), (23, 17), (24, 17), (25, 17), (26, 17), (26, 16), (26, 15), (26, 14), (27, 14), (28, 14), (29, 14), (30, 14), (30, 15), (29, 15), (28, 15), (28, 16), (27, 16), (27, 17), (28, 17), (29, 17), (30, 17), (30, 16), (31, 16), (32, 16), (32, 17), (31, 17), (31, 18), (30, 18), (30, 19), (30, 20), (30, 21), (31, 21), (31, 20), (31, 19), (32, 19), (32, 18), (33, 18), (33, 17), (34, 17), (34, 16), (34, 15), (33, 15), (33, 14), (33, 13), (33, 12), (32, 12), (31, 12), (30, 12), (29, 12), (28, 12), (28, 13), (27, 13), (27, 12), (27, 11), (27, 10), (27, 9), (28, 9), (28, 10), (29, 10), (29, 9), (30, 9), (31, 9), (31, 8), (32, 8), (32, 9), (33, 9), (33, 10), (33, 11), (34, 11), (34, 10), (34, 9), (35, 9), (35, 8), (35, 7), (34, 7), (34, 8), (33, 8), (33, 7), (33, 6), (33, 5), (34, 5), (35, 5), (35, 6), (36, 6), (36, 5), (37, 5), (37, 4), (36, 4), (36, 3), (35, 3), (34, 3), (34, 4), (33, 4), (33, 3), (32, 3), (31, 3), (31, 4), (30, 4), (29, 4), (29, 3), (28, 3), (28, 2), (28, 1), (27, 1), (27, 0), (28, 0), (29, 0), (30, 0), (31, 0), (31, 1), (32, 1), (32, 2), (33, 2), (33, 1), (33, 0), (34, 0), (34, 1), (34, 2), (35, 2), (36, 2), (37, 2), (38, 2), (38, 1), (38, 0), (39, 0), (39, 1), (39, 2), (39, 3), (39, 4), (39, 5), (39, 6), (38, 6), (37, 6), (37, 7), (36, 7), (36, 8), (36, 9), (36, 10), (35, 10), (35, 11), (36, 11), (37, 11), (37, 12), (36, 12), (36, 13), (37, 13), (37, 14), (38, 14), (38, 13), (38, 12), (38, 11), (39, 11), (39, 12), (39, 13), (39, 14), (39, 15), (38, 15), (37, 15), (37, 16), (38, 16), (39, 16), (39, 17), (39, 18)]\n"
          ]
        }
      ]
    },
    {
      "cell_type": "markdown",
      "source": [
        "### A*"
      ],
      "metadata": {
        "id": "VwvujqdgC4T9"
      }
    },
    {
      "cell_type": "code",
      "source": [
        "def heuristique_manhattan(a, b):\n",
        "    \"\"\"\n",
        "    Heuristique de Manhattan : distance entre deux points sur une grille.\n",
        "    Utilisée pour estimer la distance restante dans l'algorithme A*.\n",
        "    \"\"\"\n",
        "    return abs(a[0] - b[0]) + abs(a[1] - b[1])  # L'absolue permet de garder la valeur positive\n",
        "\n",
        "def Astar(g, depart, arrivee):\n",
        "    \"\"\"\n",
        "    Algorithme A* avec heuristique de Manhattan et appliqué à un graphe non pondéré.\n",
        "    S'arrête dès que le nœud 'courant' correspond au sommet d'arrivée.\n",
        "    Calcule le plus court chemin de 'depart' à 'arrivee'.\n",
        "    Affiche les métriques : longueur du chemin, nombre de nœuds explorés, temps d'exécution.\n",
        "    \"\"\"\n",
        "    debut = time.time()    # Démarrer le chronomètre\n",
        "\n",
        "    distances = {s: [inf, None] for s in g.sommets()}  # {sommet: [g(n), parent]}\n",
        "    distances[depart] = [0, None]\n",
        "\n",
        "    f_score = {s: inf for s in g.sommets()}  # Estimation f(n) = g(n) + h(n)\n",
        "    f_score[depart] = heuristique_manhattan(depart, arrivee) # Initialisation avec l’appel de l’heuristique\n",
        "\n",
        "    ouvert = [depart]    # Liste des sommets à explorer (on utilise une open list selon la théorie).\n",
        "    noeuds_explores = 0\n",
        "\n",
        "    while ouvert:\n",
        "        # Choisir le sommet avec la plus petite valeur f(n)\n",
        "        courant = min(ouvert, key=lambda x: f_score[x])\n",
        "        noeuds_explores += 1    # Ajout au compteur\n",
        "\n",
        "        if courant == arrivee:\n",
        "            break\n",
        "\n",
        "        ouvert.remove(courant)\n",
        "\n",
        "        for voisin in g.voisins(courant):\n",
        "            g_temp = distances[courant][0] + 1  # Coût réel = g + 1 (poids constant)\n",
        "\n",
        "            if g_temp < distances[voisin][0]:   # Si ce nouveau coût réel est plus petit que celui enregistré dans le dictionnaire\n",
        "                distances[voisin] = [g_temp, courant]  # Met à jour le coût et le parent\n",
        "                f_score[voisin] = g_temp + heuristique_manhattan(voisin, arrivee)\n",
        "                if voisin not in ouvert:\n",
        "                    ouvert.append(voisin)\n",
        "\n",
        "    fin = time.time()    # Arrêter le chronomètre\n",
        "\n",
        "    # Extraire les parents depuis distances (comme dans Dijkstra)\n",
        "    parent = {s: distances[s][1] for s in distances if distances[s][1] is not None or s == depart}\n",
        "    chemin = recupere_chemin(depart, arrivee, parent)\n",
        "\n",
        "    resume = {\n",
        "        \"Algorithme\": \"A*\",\n",
        "        \"Longueur du chemin\": len(chemin),\n",
        "        \"Noeuds explorés\": noeuds_explores,\n",
        "        \"Ratio exploration\": round(noeuds_explores / len(chemin), 2),\n",
        "        \"Temps (s)\": round(fin - debut, 6)\n",
        "    }\n",
        "\n",
        "    return chemin, resume\n"
      ],
      "metadata": {
        "id": "elcPKkXxC0Z0"
      },
      "execution_count": null,
      "outputs": []
    },
    {
      "cell_type": "code",
      "source": [
        "chemin_astar, resultat_astar = Astar(graphe_lab, entree, sortie)\n",
        "print(\"Chemin A* :\")\n",
        "print(\"Longueur du chemin :\", resultat_astar[\"Longueur du chemin\"])\n",
        "print(\"Noeuds explorés    :\", resultat_astar[\"Noeuds explorés\"])\n",
        "print(\"Ratio exploration   :\", resultat_astar[\"Ratio exploration\"])\n",
        "print(\"Temps d'exécution  :\", resultat_astar[\"Temps (s)\"], \"secondes\")\n",
        "print(\"Chemin :\", chemin_astar)"
      ],
      "metadata": {
        "colab": {
          "base_uri": "https://localhost:8080/"
        },
        "id": "CeJuxV1zOA1l",
        "outputId": "c8a7ec81-ef4b-42fe-e861-9c01cc740e36"
      },
      "execution_count": null,
      "outputs": [
        {
          "output_type": "stream",
          "name": "stdout",
          "text": [
            "Chemin A* :\n",
            "Longueur du chemin : 642\n",
            "Noeuds explorés    : 1156\n",
            "Ratio exploration   : 1.8\n",
            "Temps d'exécution  : 0.009033 secondes\n",
            "Chemin : [(0, 12), (1, 12), (2, 12), (2, 11), (2, 10), (2, 9), (2, 8), (1, 8), (1, 7), (1, 6), (1, 5), (2, 5), (3, 5), (3, 4), (4, 4), (4, 3), (3, 3), (2, 3), (2, 2), (3, 2), (4, 2), (4, 1), (3, 1), (3, 0), (4, 0), (5, 0), (5, 1), (6, 1), (6, 0), (7, 0), (7, 1), (7, 2), (7, 3), (8, 3), (8, 4), (8, 5), (7, 5), (7, 6), (8, 6), (9, 6), (9, 5), (10, 5), (10, 4), (11, 4), (12, 4), (12, 5), (12, 6), (12, 7), (11, 7), (11, 8), (12, 8), (12, 9), (13, 9), (13, 8), (13, 7), (13, 6), (14, 6), (14, 7), (15, 7), (15, 8), (15, 9), (14, 9), (14, 10), (13, 10), (12, 10), (11, 10), (10, 10), (10, 9), (10, 8), (9, 8), (9, 7), (8, 7), (8, 8), (8, 9), (7, 9), (7, 10), (7, 11), (7, 12), (6, 12), (6, 11), (5, 11), (4, 11), (4, 10), (3, 10), (3, 11), (3, 12), (3, 13), (2, 13), (2, 14), (1, 14), (0, 14), (0, 15), (1, 15), (2, 15), (3, 15), (3, 14), (4, 14), (4, 13), (5, 13), (5, 14), (5, 15), (5, 16), (4, 16), (3, 16), (3, 17), (4, 17), (5, 17), (6, 17), (6, 16), (6, 15), (7, 15), (7, 14), (6, 14), (6, 13), (7, 13), (8, 13), (8, 14), (9, 14), (9, 15), (10, 15), (10, 14), (11, 14), (11, 13), (10, 13), (9, 13), (9, 12), (10, 12), (10, 11), (11, 11), (12, 11), (13, 11), (14, 11), (14, 12), (15, 12), (16, 12), (16, 11), (16, 10), (17, 10), (17, 9), (17, 8), (17, 7), (17, 6), (16, 6), (16, 5), (16, 4), (16, 3), (17, 3), (18, 3), (18, 4), (19, 4), (19, 5), (19, 6), (19, 7), (19, 8), (20, 8), (20, 9), (20, 10), (20, 11), (20, 12), (20, 13), (20, 14), (19, 14), (19, 13), (19, 12), (19, 11), (19, 10), (19, 9), (18, 9), (18, 10), (18, 11), (18, 12), (17, 12), (17, 13), (16, 13), (16, 14), (17, 14), (18, 14), (18, 15), (17, 15), (16, 15), (15, 15), (14, 15), (14, 16), (14, 17), (13, 17), (12, 17), (12, 18), (12, 19), (12, 20), (11, 20), (11, 19), (10, 19), (10, 20), (10, 21), (10, 22), (9, 22), (8, 22), (8, 21), (9, 21), (9, 20), (9, 19), (8, 19), (8, 20), (7, 20), (7, 21), (7, 22), (7, 23), (8, 23), (8, 24), (9, 24), (9, 25), (10, 25), (10, 26), (9, 26), (8, 26), (7, 26), (7, 27), (8, 27), (9, 27), (9, 28), (9, 29), (9, 30), (9, 31), (9, 32), (9, 33), (8, 33), (7, 33), (6, 33), (6, 34), (6, 35), (6, 36), (7, 36), (7, 35), (7, 34), (8, 34), (8, 35), (8, 36), (8, 37), (8, 38), (7, 38), (6, 38), (6, 39), (7, 39), (8, 39), (9, 39), (9, 38), (9, 37), (10, 37), (10, 38), (11, 38), (11, 39), (12, 39), (12, 38), (13, 38), (13, 37), (14, 37), (15, 37), (16, 37), (16, 36), (16, 35), (16, 34), (15, 34), (14, 34), (13, 34), (12, 34), (11, 34), (10, 34), (10, 33), (11, 33), (11, 32), (11, 31), (10, 31), (10, 30), (11, 30), (12, 30), (13, 30), (13, 29), (13, 28), (14, 28), (15, 28), (15, 29), (16, 29), (16, 28), (17, 28), (17, 29), (18, 29), (18, 30), (19, 30), (20, 30), (20, 29), (20, 28), (19, 28), (18, 28), (18, 27), (18, 26), (19, 26), (19, 27), (20, 27), (21, 27), (21, 26), (20, 26), (20, 25), (20, 24), (20, 23), (20, 22), (19, 22), (18, 22), (18, 21), (18, 20), (18, 19), (18, 18), (19, 18), (19, 17), (20, 17), (20, 18), (20, 19), (19, 19), (19, 20), (20, 20), (20, 21), (21, 21), (21, 22), (22, 22), (23, 22), (23, 23), (23, 24), (22, 24), (22, 23), (21, 23), (21, 24), (21, 25), (22, 25), (22, 26), (23, 26), (23, 25), (24, 25), (24, 24), (25, 24), (25, 23), (25, 22), (25, 21), (24, 21), (23, 21), (22, 21), (22, 20), (21, 20), (21, 19), (22, 19), (23, 19), (23, 20), (24, 20), (25, 20), (26, 20), (27, 20), (27, 19), (27, 18), (26, 18), (25, 18), (24, 18), (23, 18), (22, 18), (21, 18), (21, 17), (21, 16), (21, 15), (21, 14), (21, 13), (21, 12), (21, 11), (22, 11), (22, 10), (22, 9), (21, 9), (21, 8), (22, 8), (22, 7), (23, 7), (23, 6), (23, 5), (23, 4), (23, 3), (23, 2), (22, 2), (22, 3), (22, 4), (22, 5), (21, 5), (21, 6), (20, 6), (20, 5), (20, 4), (20, 3), (21, 3), (21, 2), (20, 2), (20, 1), (19, 1), (19, 2), (18, 2), (17, 2), (17, 1), (16, 1), (15, 1), (15, 2), (14, 2), (14, 3), (15, 3), (15, 4), (14, 4), (13, 4), (13, 3), (12, 3), (11, 3), (11, 2), (11, 1), (11, 0), (12, 0), (12, 1), (12, 2), (13, 2), (13, 1), (14, 1), (14, 0), (15, 0), (16, 0), (17, 0), (18, 0), (19, 0), (20, 0), (21, 0), (21, 1), (22, 1), (22, 0), (23, 0), (23, 1), (24, 1), (24, 2), (24, 3), (25, 3), (26, 3), (27, 3), (27, 4), (26, 4), (26, 5), (27, 5), (28, 5), (28, 6), (27, 6), (26, 6), (26, 7), (25, 7), (25, 6), (25, 5), (25, 4), (24, 4), (24, 5), (24, 6), (24, 7), (24, 8), (24, 9), (25, 9), (25, 8), (26, 8), (26, 9), (26, 10), (25, 10), (24, 10), (24, 11), (25, 11), (26, 11), (26, 12), (25, 12), (24, 12), (23, 12), (23, 13), (23, 14), (23, 15), (22, 15), (22, 16), (22, 17), (23, 17), (24, 17), (25, 17), (26, 17), (26, 16), (26, 15), (26, 14), (27, 14), (28, 14), (29, 14), (30, 14), (30, 15), (29, 15), (28, 15), (28, 16), (27, 16), (27, 17), (28, 17), (29, 17), (30, 17), (30, 16), (31, 16), (32, 16), (32, 17), (31, 17), (31, 18), (30, 18), (30, 19), (30, 20), (30, 21), (31, 21), (31, 20), (31, 19), (32, 19), (32, 18), (33, 18), (33, 17), (34, 17), (34, 16), (34, 15), (33, 15), (33, 14), (33, 13), (33, 12), (32, 12), (31, 12), (30, 12), (29, 12), (28, 12), (28, 13), (27, 13), (27, 12), (27, 11), (27, 10), (27, 9), (28, 9), (28, 10), (29, 10), (29, 9), (30, 9), (31, 9), (31, 8), (32, 8), (32, 9), (33, 9), (33, 10), (33, 11), (34, 11), (34, 10), (34, 9), (35, 9), (35, 8), (35, 7), (34, 7), (34, 8), (33, 8), (33, 7), (33, 6), (33, 5), (34, 5), (35, 5), (35, 6), (36, 6), (36, 5), (37, 5), (37, 4), (36, 4), (36, 3), (35, 3), (34, 3), (34, 4), (33, 4), (33, 3), (32, 3), (31, 3), (31, 4), (30, 4), (29, 4), (29, 3), (28, 3), (28, 2), (28, 1), (27, 1), (27, 0), (28, 0), (29, 0), (30, 0), (31, 0), (31, 1), (32, 1), (32, 2), (33, 2), (33, 1), (33, 0), (34, 0), (34, 1), (34, 2), (35, 2), (36, 2), (37, 2), (38, 2), (38, 1), (38, 0), (39, 0), (39, 1), (39, 2), (39, 3), (39, 4), (39, 5), (39, 6), (38, 6), (37, 6), (37, 7), (36, 7), (36, 8), (36, 9), (36, 10), (35, 10), (35, 11), (36, 11), (37, 11), (37, 12), (36, 12), (36, 13), (37, 13), (37, 14), (38, 14), (38, 13), (38, 12), (38, 11), (39, 11), (39, 12), (39, 13), (39, 14), (39, 15), (38, 15), (37, 15), (37, 16), (38, 16), (39, 16), (39, 17), (39, 18)]\n"
          ]
        }
      ]
    },
    {
      "cell_type": "markdown",
      "source": [
        "#### Sélection du nœud avec `min()` et `lambda`\n",
        "\n",
        "```python\n",
        "courant = min(ouvert, key=lambda x: f_score[x])\n",
        "```\n",
        "\n",
        "Il faut sélectionner dans la liste `ouvert` le nœud ayant la plus petite valeur estimée de `f(n)`.\n",
        "\n",
        "- `f_score[x]` représente la somme :  \n",
        "  `f(n) = g(n) + h(n)`  \n",
        "  où :  \n",
        "  - `g(n)` est le coût réel depuis le départ jusqu’à `x`,  \n",
        "  - `h(n)` est l’estimation heuristique du coût de `x` à l’arrivée.\n",
        "- `lambda x: f_score[x]` est une fonction anonyme qui retourne la valeur `f(n)` d’un nœud `x`.\n",
        "- `min(..., key=...)` permet donc de trouver le nœud avec **le plus petit `f(n)`** dans `ouvert`.\n",
        "\n",
        "C’est ce nœud `courant` que l’on explorera ensuite dans l’algorithme A*.\n"
      ],
      "metadata": {
        "id": "PrlEf76gJrXn"
      }
    },
    {
      "cell_type": "markdown",
      "source": [
        "## Étape 5 — Affichage des résultats et métriques comparatifs"
      ],
      "metadata": {
        "id": "bV04zfCysuza"
      }
    },
    {
      "cell_type": "markdown",
      "source": [
        "### Affichage des données avec Pandas"
      ],
      "metadata": {
        "id": "p85JOJ_qtYbw"
      }
    },
    {
      "cell_type": "code",
      "source": [
        "import pandas as pd\n",
        "from IPython.display import display\n",
        "\n",
        "# Récupération des résultats exécutés plus hauts\n",
        "resultats = [\n",
        "    resultat_dfs,\n",
        "    resultat_bfs,\n",
        "    resultat_dijkstra,\n",
        "    resultat_astar\n",
        "]\n",
        "\n",
        "# Création d'un DataFrame à partir des résultats\n",
        "df_resultats = pd.DataFrame(resultats)\n",
        "\n",
        "# Affichage du tableau\n",
        "display(df_resultats)\n"
      ],
      "metadata": {
        "colab": {
          "base_uri": "https://localhost:8080/",
          "height": 175
        },
        "id": "oyZHE8U8-IYP",
        "outputId": "9034b6d7-e13c-441e-9263-cf9bef4db14e"
      },
      "execution_count": null,
      "outputs": [
        {
          "output_type": "display_data",
          "data": {
            "text/plain": [
              "  Algorithme  Longueur du chemin  Noeuds explorés  Ratio exploration  \\\n",
              "0        DFS                 642             1100               1.71   \n",
              "1        BFS                 642             1165               1.81   \n",
              "2   Dijkstra                 642             1165               1.81   \n",
              "3         A*                 642             1156               1.80   \n",
              "\n",
              "   Temps (s)  \n",
              "0   0.001897  \n",
              "1   0.068225  \n",
              "2   0.061990  \n",
              "3   0.009033  "
            ],
            "text/html": [
              "\n",
              "  <div id=\"df-e341e355-6e76-426a-92ad-5feb29fe0791\" class=\"colab-df-container\">\n",
              "    <div>\n",
              "<style scoped>\n",
              "    .dataframe tbody tr th:only-of-type {\n",
              "        vertical-align: middle;\n",
              "    }\n",
              "\n",
              "    .dataframe tbody tr th {\n",
              "        vertical-align: top;\n",
              "    }\n",
              "\n",
              "    .dataframe thead th {\n",
              "        text-align: right;\n",
              "    }\n",
              "</style>\n",
              "<table border=\"1\" class=\"dataframe\">\n",
              "  <thead>\n",
              "    <tr style=\"text-align: right;\">\n",
              "      <th></th>\n",
              "      <th>Algorithme</th>\n",
              "      <th>Longueur du chemin</th>\n",
              "      <th>Noeuds explorés</th>\n",
              "      <th>Ratio exploration</th>\n",
              "      <th>Temps (s)</th>\n",
              "    </tr>\n",
              "  </thead>\n",
              "  <tbody>\n",
              "    <tr>\n",
              "      <th>0</th>\n",
              "      <td>DFS</td>\n",
              "      <td>642</td>\n",
              "      <td>1100</td>\n",
              "      <td>1.71</td>\n",
              "      <td>0.001897</td>\n",
              "    </tr>\n",
              "    <tr>\n",
              "      <th>1</th>\n",
              "      <td>BFS</td>\n",
              "      <td>642</td>\n",
              "      <td>1165</td>\n",
              "      <td>1.81</td>\n",
              "      <td>0.068225</td>\n",
              "    </tr>\n",
              "    <tr>\n",
              "      <th>2</th>\n",
              "      <td>Dijkstra</td>\n",
              "      <td>642</td>\n",
              "      <td>1165</td>\n",
              "      <td>1.81</td>\n",
              "      <td>0.061990</td>\n",
              "    </tr>\n",
              "    <tr>\n",
              "      <th>3</th>\n",
              "      <td>A*</td>\n",
              "      <td>642</td>\n",
              "      <td>1156</td>\n",
              "      <td>1.80</td>\n",
              "      <td>0.009033</td>\n",
              "    </tr>\n",
              "  </tbody>\n",
              "</table>\n",
              "</div>\n",
              "    <div class=\"colab-df-buttons\">\n",
              "\n",
              "  <div class=\"colab-df-container\">\n",
              "    <button class=\"colab-df-convert\" onclick=\"convertToInteractive('df-e341e355-6e76-426a-92ad-5feb29fe0791')\"\n",
              "            title=\"Convert this dataframe to an interactive table.\"\n",
              "            style=\"display:none;\">\n",
              "\n",
              "  <svg xmlns=\"http://www.w3.org/2000/svg\" height=\"24px\" viewBox=\"0 -960 960 960\">\n",
              "    <path d=\"M120-120v-720h720v720H120Zm60-500h600v-160H180v160Zm220 220h160v-160H400v160Zm0 220h160v-160H400v160ZM180-400h160v-160H180v160Zm440 0h160v-160H620v160ZM180-180h160v-160H180v160Zm440 0h160v-160H620v160Z\"/>\n",
              "  </svg>\n",
              "    </button>\n",
              "\n",
              "  <style>\n",
              "    .colab-df-container {\n",
              "      display:flex;\n",
              "      gap: 12px;\n",
              "    }\n",
              "\n",
              "    .colab-df-convert {\n",
              "      background-color: #E8F0FE;\n",
              "      border: none;\n",
              "      border-radius: 50%;\n",
              "      cursor: pointer;\n",
              "      display: none;\n",
              "      fill: #1967D2;\n",
              "      height: 32px;\n",
              "      padding: 0 0 0 0;\n",
              "      width: 32px;\n",
              "    }\n",
              "\n",
              "    .colab-df-convert:hover {\n",
              "      background-color: #E2EBFA;\n",
              "      box-shadow: 0px 1px 2px rgba(60, 64, 67, 0.3), 0px 1px 3px 1px rgba(60, 64, 67, 0.15);\n",
              "      fill: #174EA6;\n",
              "    }\n",
              "\n",
              "    .colab-df-buttons div {\n",
              "      margin-bottom: 4px;\n",
              "    }\n",
              "\n",
              "    [theme=dark] .colab-df-convert {\n",
              "      background-color: #3B4455;\n",
              "      fill: #D2E3FC;\n",
              "    }\n",
              "\n",
              "    [theme=dark] .colab-df-convert:hover {\n",
              "      background-color: #434B5C;\n",
              "      box-shadow: 0px 1px 3px 1px rgba(0, 0, 0, 0.15);\n",
              "      filter: drop-shadow(0px 1px 2px rgba(0, 0, 0, 0.3));\n",
              "      fill: #FFFFFF;\n",
              "    }\n",
              "  </style>\n",
              "\n",
              "    <script>\n",
              "      const buttonEl =\n",
              "        document.querySelector('#df-e341e355-6e76-426a-92ad-5feb29fe0791 button.colab-df-convert');\n",
              "      buttonEl.style.display =\n",
              "        google.colab.kernel.accessAllowed ? 'block' : 'none';\n",
              "\n",
              "      async function convertToInteractive(key) {\n",
              "        const element = document.querySelector('#df-e341e355-6e76-426a-92ad-5feb29fe0791');\n",
              "        const dataTable =\n",
              "          await google.colab.kernel.invokeFunction('convertToInteractive',\n",
              "                                                    [key], {});\n",
              "        if (!dataTable) return;\n",
              "\n",
              "        const docLinkHtml = 'Like what you see? Visit the ' +\n",
              "          '<a target=\"_blank\" href=https://colab.research.google.com/notebooks/data_table.ipynb>data table notebook</a>'\n",
              "          + ' to learn more about interactive tables.';\n",
              "        element.innerHTML = '';\n",
              "        dataTable['output_type'] = 'display_data';\n",
              "        await google.colab.output.renderOutput(dataTable, element);\n",
              "        const docLink = document.createElement('div');\n",
              "        docLink.innerHTML = docLinkHtml;\n",
              "        element.appendChild(docLink);\n",
              "      }\n",
              "    </script>\n",
              "  </div>\n",
              "\n",
              "\n",
              "    <div id=\"df-0cc92ae3-a99c-432d-b1f1-578428536497\">\n",
              "      <button class=\"colab-df-quickchart\" onclick=\"quickchart('df-0cc92ae3-a99c-432d-b1f1-578428536497')\"\n",
              "                title=\"Suggest charts\"\n",
              "                style=\"display:none;\">\n",
              "\n",
              "<svg xmlns=\"http://www.w3.org/2000/svg\" height=\"24px\"viewBox=\"0 0 24 24\"\n",
              "     width=\"24px\">\n",
              "    <g>\n",
              "        <path d=\"M19 3H5c-1.1 0-2 .9-2 2v14c0 1.1.9 2 2 2h14c1.1 0 2-.9 2-2V5c0-1.1-.9-2-2-2zM9 17H7v-7h2v7zm4 0h-2V7h2v10zm4 0h-2v-4h2v4z\"/>\n",
              "    </g>\n",
              "</svg>\n",
              "      </button>\n",
              "\n",
              "<style>\n",
              "  .colab-df-quickchart {\n",
              "      --bg-color: #E8F0FE;\n",
              "      --fill-color: #1967D2;\n",
              "      --hover-bg-color: #E2EBFA;\n",
              "      --hover-fill-color: #174EA6;\n",
              "      --disabled-fill-color: #AAA;\n",
              "      --disabled-bg-color: #DDD;\n",
              "  }\n",
              "\n",
              "  [theme=dark] .colab-df-quickchart {\n",
              "      --bg-color: #3B4455;\n",
              "      --fill-color: #D2E3FC;\n",
              "      --hover-bg-color: #434B5C;\n",
              "      --hover-fill-color: #FFFFFF;\n",
              "      --disabled-bg-color: #3B4455;\n",
              "      --disabled-fill-color: #666;\n",
              "  }\n",
              "\n",
              "  .colab-df-quickchart {\n",
              "    background-color: var(--bg-color);\n",
              "    border: none;\n",
              "    border-radius: 50%;\n",
              "    cursor: pointer;\n",
              "    display: none;\n",
              "    fill: var(--fill-color);\n",
              "    height: 32px;\n",
              "    padding: 0;\n",
              "    width: 32px;\n",
              "  }\n",
              "\n",
              "  .colab-df-quickchart:hover {\n",
              "    background-color: var(--hover-bg-color);\n",
              "    box-shadow: 0 1px 2px rgba(60, 64, 67, 0.3), 0 1px 3px 1px rgba(60, 64, 67, 0.15);\n",
              "    fill: var(--button-hover-fill-color);\n",
              "  }\n",
              "\n",
              "  .colab-df-quickchart-complete:disabled,\n",
              "  .colab-df-quickchart-complete:disabled:hover {\n",
              "    background-color: var(--disabled-bg-color);\n",
              "    fill: var(--disabled-fill-color);\n",
              "    box-shadow: none;\n",
              "  }\n",
              "\n",
              "  .colab-df-spinner {\n",
              "    border: 2px solid var(--fill-color);\n",
              "    border-color: transparent;\n",
              "    border-bottom-color: var(--fill-color);\n",
              "    animation:\n",
              "      spin 1s steps(1) infinite;\n",
              "  }\n",
              "\n",
              "  @keyframes spin {\n",
              "    0% {\n",
              "      border-color: transparent;\n",
              "      border-bottom-color: var(--fill-color);\n",
              "      border-left-color: var(--fill-color);\n",
              "    }\n",
              "    20% {\n",
              "      border-color: transparent;\n",
              "      border-left-color: var(--fill-color);\n",
              "      border-top-color: var(--fill-color);\n",
              "    }\n",
              "    30% {\n",
              "      border-color: transparent;\n",
              "      border-left-color: var(--fill-color);\n",
              "      border-top-color: var(--fill-color);\n",
              "      border-right-color: var(--fill-color);\n",
              "    }\n",
              "    40% {\n",
              "      border-color: transparent;\n",
              "      border-right-color: var(--fill-color);\n",
              "      border-top-color: var(--fill-color);\n",
              "    }\n",
              "    60% {\n",
              "      border-color: transparent;\n",
              "      border-right-color: var(--fill-color);\n",
              "    }\n",
              "    80% {\n",
              "      border-color: transparent;\n",
              "      border-right-color: var(--fill-color);\n",
              "      border-bottom-color: var(--fill-color);\n",
              "    }\n",
              "    90% {\n",
              "      border-color: transparent;\n",
              "      border-bottom-color: var(--fill-color);\n",
              "    }\n",
              "  }\n",
              "</style>\n",
              "\n",
              "      <script>\n",
              "        async function quickchart(key) {\n",
              "          const quickchartButtonEl =\n",
              "            document.querySelector('#' + key + ' button');\n",
              "          quickchartButtonEl.disabled = true;  // To prevent multiple clicks.\n",
              "          quickchartButtonEl.classList.add('colab-df-spinner');\n",
              "          try {\n",
              "            const charts = await google.colab.kernel.invokeFunction(\n",
              "                'suggestCharts', [key], {});\n",
              "          } catch (error) {\n",
              "            console.error('Error during call to suggestCharts:', error);\n",
              "          }\n",
              "          quickchartButtonEl.classList.remove('colab-df-spinner');\n",
              "          quickchartButtonEl.classList.add('colab-df-quickchart-complete');\n",
              "        }\n",
              "        (() => {\n",
              "          let quickchartButtonEl =\n",
              "            document.querySelector('#df-0cc92ae3-a99c-432d-b1f1-578428536497 button');\n",
              "          quickchartButtonEl.style.display =\n",
              "            google.colab.kernel.accessAllowed ? 'block' : 'none';\n",
              "        })();\n",
              "      </script>\n",
              "    </div>\n",
              "\n",
              "  <div id=\"id_0d3e1bcf-f830-4444-9b0b-2817aa35c024\">\n",
              "    <style>\n",
              "      .colab-df-generate {\n",
              "        background-color: #E8F0FE;\n",
              "        border: none;\n",
              "        border-radius: 50%;\n",
              "        cursor: pointer;\n",
              "        display: none;\n",
              "        fill: #1967D2;\n",
              "        height: 32px;\n",
              "        padding: 0 0 0 0;\n",
              "        width: 32px;\n",
              "      }\n",
              "\n",
              "      .colab-df-generate:hover {\n",
              "        background-color: #E2EBFA;\n",
              "        box-shadow: 0px 1px 2px rgba(60, 64, 67, 0.3), 0px 1px 3px 1px rgba(60, 64, 67, 0.15);\n",
              "        fill: #174EA6;\n",
              "      }\n",
              "\n",
              "      [theme=dark] .colab-df-generate {\n",
              "        background-color: #3B4455;\n",
              "        fill: #D2E3FC;\n",
              "      }\n",
              "\n",
              "      [theme=dark] .colab-df-generate:hover {\n",
              "        background-color: #434B5C;\n",
              "        box-shadow: 0px 1px 3px 1px rgba(0, 0, 0, 0.15);\n",
              "        filter: drop-shadow(0px 1px 2px rgba(0, 0, 0, 0.3));\n",
              "        fill: #FFFFFF;\n",
              "      }\n",
              "    </style>\n",
              "    <button class=\"colab-df-generate\" onclick=\"generateWithVariable('df_resultats')\"\n",
              "            title=\"Generate code using this dataframe.\"\n",
              "            style=\"display:none;\">\n",
              "\n",
              "  <svg xmlns=\"http://www.w3.org/2000/svg\" height=\"24px\"viewBox=\"0 0 24 24\"\n",
              "       width=\"24px\">\n",
              "    <path d=\"M7,19H8.4L18.45,9,17,7.55,7,17.6ZM5,21V16.75L18.45,3.32a2,2,0,0,1,2.83,0l1.4,1.43a1.91,1.91,0,0,1,.58,1.4,1.91,1.91,0,0,1-.58,1.4L9.25,21ZM18.45,9,17,7.55Zm-12,3A5.31,5.31,0,0,0,4.9,8.1,5.31,5.31,0,0,0,1,6.5,5.31,5.31,0,0,0,4.9,4.9,5.31,5.31,0,0,0,6.5,1,5.31,5.31,0,0,0,8.1,4.9,5.31,5.31,0,0,0,12,6.5,5.46,5.46,0,0,0,6.5,12Z\"/>\n",
              "  </svg>\n",
              "    </button>\n",
              "    <script>\n",
              "      (() => {\n",
              "      const buttonEl =\n",
              "        document.querySelector('#id_0d3e1bcf-f830-4444-9b0b-2817aa35c024 button.colab-df-generate');\n",
              "      buttonEl.style.display =\n",
              "        google.colab.kernel.accessAllowed ? 'block' : 'none';\n",
              "\n",
              "      buttonEl.onclick = () => {\n",
              "        google.colab.notebook.generateWithVariable('df_resultats');\n",
              "      }\n",
              "      })();\n",
              "    </script>\n",
              "  </div>\n",
              "\n",
              "    </div>\n",
              "  </div>\n"
            ],
            "application/vnd.google.colaboratory.intrinsic+json": {
              "type": "dataframe",
              "variable_name": "df_resultats",
              "summary": "{\n  \"name\": \"df_resultats\",\n  \"rows\": 4,\n  \"fields\": [\n    {\n      \"column\": \"Algorithme\",\n      \"properties\": {\n        \"dtype\": \"string\",\n        \"num_unique_values\": 4,\n        \"samples\": [\n          \"BFS\",\n          \"A*\",\n          \"DFS\"\n        ],\n        \"semantic_type\": \"\",\n        \"description\": \"\"\n      }\n    },\n    {\n      \"column\": \"Longueur du chemin\",\n      \"properties\": {\n        \"dtype\": \"number\",\n        \"std\": 0,\n        \"min\": 642,\n        \"max\": 642,\n        \"num_unique_values\": 1,\n        \"samples\": [\n          642\n        ],\n        \"semantic_type\": \"\",\n        \"description\": \"\"\n      }\n    },\n    {\n      \"column\": \"Noeuds explor\\u00e9s\",\n      \"properties\": {\n        \"dtype\": \"number\",\n        \"std\": 31,\n        \"min\": 1100,\n        \"max\": 1165,\n        \"num_unique_values\": 3,\n        \"samples\": [\n          1100\n        ],\n        \"semantic_type\": \"\",\n        \"description\": \"\"\n      }\n    },\n    {\n      \"column\": \"Ratio exploration\",\n      \"properties\": {\n        \"dtype\": \"number\",\n        \"std\": 0.0485626742811116,\n        \"min\": 1.71,\n        \"max\": 1.81,\n        \"num_unique_values\": 3,\n        \"samples\": [\n          1.71\n        ],\n        \"semantic_type\": \"\",\n        \"description\": \"\"\n      }\n    },\n    {\n      \"column\": \"Temps (s)\",\n      \"properties\": {\n        \"dtype\": \"number\",\n        \"std\": 0.03465124657089073,\n        \"min\": 0.001897,\n        \"max\": 0.068225,\n        \"num_unique_values\": 4,\n        \"samples\": [\n          0.068225\n        ],\n        \"semantic_type\": \"\",\n        \"description\": \"\"\n      }\n    }\n  ]\n}"
            }
          },
          "metadata": {}
        }
      ]
    },
    {
      "cell_type": "markdown",
      "source": [
        "### Choix des métriques\n",
        "\n",
        "Trois métriques ont été retenues pour comparer les algorithmes :\n",
        "\n",
        "- **Nombre de nœuds explorés** : indique l'efficacité de l'algorithme à atteindre la solution. Moins il explore de cases, plus il est ciblé et performant.\n",
        "- **Temps d'exécution** : mesure le temps réel nécessaire pour résoudre le labyrinthe. Cela peut être influencé par des facteurs externes (exécution du système), mais reste un bon indicateur général.\n",
        "- **Ratio d'exploration** (`noeuds explorés ÷ longueur du chemin`) : il met en perspective l'effort nécessaire par rapport à la récompense. Il reflète directement **l'efficacité algorithmique**. *Plus le ratio est petit, mieux c’est*, car cela signifie que l’algorithme explore peu pour trouver un chemin optimal\n",
        "  >C’est donc la métrique la plus pertinente ici, car elle capture à la fois la pertinence de l'exploration et l'optimisation du parcours.\n",
        "\n",
        "---\n",
        "\n",
        "### Pourquoi tous les algorithmes retournent le même chemin ?\n",
        "\n",
        "Le labyrinthe généré ici est un labyrinthe parfait, ce qui signifie :\n",
        "\n",
        "- Il n’y a aucune boucle.\n",
        "- Il existe exactement un seul chemin entre deux cellules données.\n",
        "- Il est connexe (toutes les cellules sont accessibles) et acyclique (pas de cycle).\n",
        "\n",
        ">Ce qui varie, c’est la stratégie de recherche utilisée pour trouver ce chemin\n",
        "\n",
        "La longueur du chemin n’est pas discriminante dans ce contexte. Ce sont donc **l’exploration et l'efficacité** qui nous intéressent le plus pour comparer les algorithmes.\n",
        "\n",
        "---\n",
        "\n",
        "### Interprétation des résultats\n",
        "\n",
        "| Algorithme | Observations |\n",
        "|------------|-------------------|\n",
        "| **A\\***     | Le plus efficace et assez rapide relativement aux autres. Il combine la précision <br>de Dijkstra avec une exploration plus ciblée grâce à l’heuristique de Manhattan. |\n",
        "| **Dijkstra** | Solide et précis, mais beaucoup plus lent puisque son algorithme <br>cherche à optimiser les coûts (chercher le chemin le moins coûteux). <br>Il explore sans heuristique, ce qui augmente le temps dans les grands graphes. |\n",
        "| **BFS**    | Comparable à Dijkstra car les poids sont constants dans notre contexte. Plus <br>rapide, mais explore de manière équitable sans priorité. |\n",
        "| **DFS**    | Très rapide, mais explore souvent trop de nœuds inutilement (désordonné). Non optimal <br>pour trouver des chemins courts dans des labyrinthes. |\n",
        "\n",
        ">#### *Petite note concernant certains résultats non constants chez DFS\n",
        "DFS ne garantit pas le chemin le plus court, car il explore en profondeur sans évaluer les distances.\n",
        "Il peut s’enfoncer dans des impasses avant de revenir en arrière, ce qui le rend inefficace dans bien des cas.\n",
        "Son comportement dépend fortement de l’ordre des voisins et le rend imprévisible et peu fiable. S’il tombe rapidement sur la bonne direction, il explore peu. Sinon, il peut parcourir presque tout le graphe.\n",
        "\n",
        "---\n",
        "\n",
        "### Conclusion\n",
        "\n",
        "- **A\\*** est le meilleur choix global dans ce contexte :  \n",
        "  - Rapide  \n",
        "  - Moins de nœuds explorés\n",
        "  - Heuristique efficace\n",
        "\n",
        "- **DFS** est à éviter si l’objectif est l’efficacité même si son exécution est rapide.  \n",
        "- **BFS** et **Dijkstra** sont valables, mais moins performants sans pondération ni heuristique.\n"
      ],
      "metadata": {
        "id": "d14Bv3tu1cJF"
      }
    },
    {
      "cell_type": "markdown",
      "source": [
        "---\n",
        "\n",
        "📘 *Notebook créé par Nadia Simard-Villa dans le cadre d’un projet du cours d'intelligence artificielle 2 donné par Thibault D'heilly*\n",
        "\n",
        "🌐 Collège Ahuntsic — AEC IoT & IA, 2025\n",
        "\n",
        "---\n"
      ],
      "metadata": {
        "id": "D2IyMipwI4ZQ"
      }
    }
  ]
}